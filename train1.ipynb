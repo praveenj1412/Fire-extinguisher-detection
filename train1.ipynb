{
  "cells": [
    {
      "cell_type": "code",
      "execution_count": null,
      "metadata": {
        "colab": {
          "base_uri": "https://localhost:8080/"
        },
        "id": "CY3MS4St4Z7k",
        "outputId": "653976ff-6ae1-4e2d-fa5f-386c1ef4a5d4"
      },
      "outputs": [
        {
          "output_type": "stream",
          "name": "stdout",
          "text": [
            "Collecting roboflow\n",
            "  Downloading roboflow-1.1.49-py3-none-any.whl.metadata (9.7 kB)\n",
            "Requirement already satisfied: certifi in /usr/local/lib/python3.10/dist-packages (from roboflow) (2024.8.30)\n",
            "Collecting idna==3.7 (from roboflow)\n",
            "  Downloading idna-3.7-py3-none-any.whl.metadata (9.9 kB)\n",
            "Requirement already satisfied: cycler in /usr/local/lib/python3.10/dist-packages (from roboflow) (0.12.1)\n",
            "Requirement already satisfied: kiwisolver>=1.3.1 in /usr/local/lib/python3.10/dist-packages (from roboflow) (1.4.7)\n",
            "Requirement already satisfied: matplotlib in /usr/local/lib/python3.10/dist-packages (from roboflow) (3.8.0)\n",
            "Requirement already satisfied: numpy>=1.18.5 in /usr/local/lib/python3.10/dist-packages (from roboflow) (1.26.4)\n",
            "Requirement already satisfied: opencv-python-headless==4.10.0.84 in /usr/local/lib/python3.10/dist-packages (from roboflow) (4.10.0.84)\n",
            "Requirement already satisfied: Pillow>=7.1.2 in /usr/local/lib/python3.10/dist-packages (from roboflow) (11.0.0)\n",
            "Requirement already satisfied: python-dateutil in /usr/local/lib/python3.10/dist-packages (from roboflow) (2.8.2)\n",
            "Collecting python-dotenv (from roboflow)\n",
            "  Downloading python_dotenv-1.0.1-py3-none-any.whl.metadata (23 kB)\n",
            "Requirement already satisfied: requests in /usr/local/lib/python3.10/dist-packages (from roboflow) (2.32.3)\n",
            "Requirement already satisfied: six in /usr/local/lib/python3.10/dist-packages (from roboflow) (1.16.0)\n",
            "Requirement already satisfied: urllib3>=1.26.6 in /usr/local/lib/python3.10/dist-packages (from roboflow) (2.2.3)\n",
            "Requirement already satisfied: tqdm>=4.41.0 in /usr/local/lib/python3.10/dist-packages (from roboflow) (4.66.6)\n",
            "Requirement already satisfied: PyYAML>=5.3.1 in /usr/local/lib/python3.10/dist-packages (from roboflow) (6.0.2)\n",
            "Requirement already satisfied: requests-toolbelt in /usr/local/lib/python3.10/dist-packages (from roboflow) (1.0.0)\n",
            "Collecting filetype (from roboflow)\n",
            "  Downloading filetype-1.2.0-py2.py3-none-any.whl.metadata (6.5 kB)\n",
            "Requirement already satisfied: contourpy>=1.0.1 in /usr/local/lib/python3.10/dist-packages (from matplotlib->roboflow) (1.3.1)\n",
            "Requirement already satisfied: fonttools>=4.22.0 in /usr/local/lib/python3.10/dist-packages (from matplotlib->roboflow) (4.55.0)\n",
            "Requirement already satisfied: packaging>=20.0 in /usr/local/lib/python3.10/dist-packages (from matplotlib->roboflow) (24.2)\n",
            "Requirement already satisfied: pyparsing>=2.3.1 in /usr/local/lib/python3.10/dist-packages (from matplotlib->roboflow) (3.2.0)\n",
            "Requirement already satisfied: charset-normalizer<4,>=2 in /usr/local/lib/python3.10/dist-packages (from requests->roboflow) (3.4.0)\n",
            "Downloading roboflow-1.1.49-py3-none-any.whl (80 kB)\n",
            "\u001b[2K   \u001b[90m━━━━━━━━━━━━━━━━━━━━━━━━━━━━━━━━━━━━━━━━\u001b[0m \u001b[32m80.9/80.9 kB\u001b[0m \u001b[31m6.0 MB/s\u001b[0m eta \u001b[36m0:00:00\u001b[0m\n",
            "\u001b[?25hDownloading idna-3.7-py3-none-any.whl (66 kB)\n",
            "\u001b[2K   \u001b[90m━━━━━━━━━━━━━━━━━━━━━━━━━━━━━━━━━━━━━━━━\u001b[0m \u001b[32m66.8/66.8 kB\u001b[0m \u001b[31m5.3 MB/s\u001b[0m eta \u001b[36m0:00:00\u001b[0m\n",
            "\u001b[?25hDownloading filetype-1.2.0-py2.py3-none-any.whl (19 kB)\n",
            "Downloading python_dotenv-1.0.1-py3-none-any.whl (19 kB)\n",
            "Installing collected packages: filetype, python-dotenv, idna, roboflow\n",
            "  Attempting uninstall: idna\n",
            "    Found existing installation: idna 3.10\n",
            "    Uninstalling idna-3.10:\n",
            "      Successfully uninstalled idna-3.10\n",
            "Successfully installed filetype-1.2.0 idna-3.7 python-dotenv-1.0.1 roboflow-1.1.49\n",
            "loading Roboflow workspace...\n",
            "loading Roboflow project...\n"
          ]
        },
        {
          "output_type": "stream",
          "name": "stderr",
          "text": [
            "Downloading Dataset Version Zip in Fire-Extinguisher-Detection-3 to yolov11:: 100%|██████████| 462126/462126 [00:13<00:00, 35153.99it/s]"
          ]
        },
        {
          "output_type": "stream",
          "name": "stdout",
          "text": [
            "\n"
          ]
        },
        {
          "output_type": "stream",
          "name": "stderr",
          "text": [
            "\n",
            "Extracting Dataset Version Zip to Fire-Extinguisher-Detection-3 in yolov11:: 100%|██████████| 12395/12395 [00:04<00:00, 2580.24it/s]\n"
          ]
        }
      ],
      "source": [
        "!pip install roboflow\n",
        "\n",
        "from roboflow import Roboflow\n",
        "rf = Roboflow(api_key=\"9ym9pFfZRllzdTzxnN2b\")\n",
        "project = rf.workspace(\"tanmay-bairagi-dmx7f\").project(\"fire-extinguisher-detection-ipe0q\")\n",
        "version = project.version(3)\n",
        "dataset = version.download(\"yolov11\")\n"
      ]
    },
    {
      "cell_type": "code",
      "execution_count": null,
      "metadata": {
        "colab": {
          "base_uri": "https://localhost:8080/"
        },
        "id": "VXQDdjOayn16",
        "outputId": "355e60b4-70b6-453b-a03a-a793ca0c005d"
      },
      "outputs": [
        {
          "output_type": "stream",
          "name": "stdout",
          "text": [
            "Collecting ultralytics\n",
            "  Downloading ultralytics-8.3.40-py3-none-any.whl.metadata (35 kB)\n",
            "Requirement already satisfied: numpy>=1.23.0 in /usr/local/lib/python3.10/dist-packages (from ultralytics) (1.26.4)\n",
            "Requirement already satisfied: matplotlib>=3.3.0 in /usr/local/lib/python3.10/dist-packages (from ultralytics) (3.8.0)\n",
            "Requirement already satisfied: opencv-python>=4.6.0 in /usr/local/lib/python3.10/dist-packages (from ultralytics) (4.10.0.84)\n",
            "Requirement already satisfied: pillow>=7.1.2 in /usr/local/lib/python3.10/dist-packages (from ultralytics) (11.0.0)\n",
            "Requirement already satisfied: pyyaml>=5.3.1 in /usr/local/lib/python3.10/dist-packages (from ultralytics) (6.0.2)\n",
            "Requirement already satisfied: requests>=2.23.0 in /usr/local/lib/python3.10/dist-packages (from ultralytics) (2.32.3)\n",
            "Requirement already satisfied: scipy>=1.4.1 in /usr/local/lib/python3.10/dist-packages (from ultralytics) (1.13.1)\n",
            "Requirement already satisfied: torch>=1.8.0 in /usr/local/lib/python3.10/dist-packages (from ultralytics) (2.5.1+cu121)\n",
            "Requirement already satisfied: torchvision>=0.9.0 in /usr/local/lib/python3.10/dist-packages (from ultralytics) (0.20.1+cu121)\n",
            "Requirement already satisfied: tqdm>=4.64.0 in /usr/local/lib/python3.10/dist-packages (from ultralytics) (4.66.6)\n",
            "Requirement already satisfied: psutil in /usr/local/lib/python3.10/dist-packages (from ultralytics) (5.9.5)\n",
            "Requirement already satisfied: py-cpuinfo in /usr/local/lib/python3.10/dist-packages (from ultralytics) (9.0.0)\n",
            "Requirement already satisfied: pandas>=1.1.4 in /usr/local/lib/python3.10/dist-packages (from ultralytics) (2.2.2)\n",
            "Requirement already satisfied: seaborn>=0.11.0 in /usr/local/lib/python3.10/dist-packages (from ultralytics) (0.13.2)\n",
            "Collecting ultralytics-thop>=2.0.0 (from ultralytics)\n",
            "  Downloading ultralytics_thop-2.0.12-py3-none-any.whl.metadata (9.4 kB)\n",
            "Requirement already satisfied: contourpy>=1.0.1 in /usr/local/lib/python3.10/dist-packages (from matplotlib>=3.3.0->ultralytics) (1.3.1)\n",
            "Requirement already satisfied: cycler>=0.10 in /usr/local/lib/python3.10/dist-packages (from matplotlib>=3.3.0->ultralytics) (0.12.1)\n",
            "Requirement already satisfied: fonttools>=4.22.0 in /usr/local/lib/python3.10/dist-packages (from matplotlib>=3.3.0->ultralytics) (4.55.0)\n",
            "Requirement already satisfied: kiwisolver>=1.0.1 in /usr/local/lib/python3.10/dist-packages (from matplotlib>=3.3.0->ultralytics) (1.4.7)\n",
            "Requirement already satisfied: packaging>=20.0 in /usr/local/lib/python3.10/dist-packages (from matplotlib>=3.3.0->ultralytics) (24.2)\n",
            "Requirement already satisfied: pyparsing>=2.3.1 in /usr/local/lib/python3.10/dist-packages (from matplotlib>=3.3.0->ultralytics) (3.2.0)\n",
            "Requirement already satisfied: python-dateutil>=2.7 in /usr/local/lib/python3.10/dist-packages (from matplotlib>=3.3.0->ultralytics) (2.8.2)\n",
            "Requirement already satisfied: pytz>=2020.1 in /usr/local/lib/python3.10/dist-packages (from pandas>=1.1.4->ultralytics) (2024.2)\n",
            "Requirement already satisfied: tzdata>=2022.7 in /usr/local/lib/python3.10/dist-packages (from pandas>=1.1.4->ultralytics) (2024.2)\n",
            "Requirement already satisfied: charset-normalizer<4,>=2 in /usr/local/lib/python3.10/dist-packages (from requests>=2.23.0->ultralytics) (3.4.0)\n",
            "Requirement already satisfied: idna<4,>=2.5 in /usr/local/lib/python3.10/dist-packages (from requests>=2.23.0->ultralytics) (3.7)\n",
            "Requirement already satisfied: urllib3<3,>=1.21.1 in /usr/local/lib/python3.10/dist-packages (from requests>=2.23.0->ultralytics) (2.2.3)\n",
            "Requirement already satisfied: certifi>=2017.4.17 in /usr/local/lib/python3.10/dist-packages (from requests>=2.23.0->ultralytics) (2024.8.30)\n",
            "Requirement already satisfied: filelock in /usr/local/lib/python3.10/dist-packages (from torch>=1.8.0->ultralytics) (3.16.1)\n",
            "Requirement already satisfied: typing-extensions>=4.8.0 in /usr/local/lib/python3.10/dist-packages (from torch>=1.8.0->ultralytics) (4.12.2)\n",
            "Requirement already satisfied: networkx in /usr/local/lib/python3.10/dist-packages (from torch>=1.8.0->ultralytics) (3.4.2)\n",
            "Requirement already satisfied: jinja2 in /usr/local/lib/python3.10/dist-packages (from torch>=1.8.0->ultralytics) (3.1.4)\n",
            "Requirement already satisfied: fsspec in /usr/local/lib/python3.10/dist-packages (from torch>=1.8.0->ultralytics) (2024.10.0)\n",
            "Requirement already satisfied: sympy==1.13.1 in /usr/local/lib/python3.10/dist-packages (from torch>=1.8.0->ultralytics) (1.13.1)\n",
            "Requirement already satisfied: mpmath<1.4,>=1.1.0 in /usr/local/lib/python3.10/dist-packages (from sympy==1.13.1->torch>=1.8.0->ultralytics) (1.3.0)\n",
            "Requirement already satisfied: six>=1.5 in /usr/local/lib/python3.10/dist-packages (from python-dateutil>=2.7->matplotlib>=3.3.0->ultralytics) (1.16.0)\n",
            "Requirement already satisfied: MarkupSafe>=2.0 in /usr/local/lib/python3.10/dist-packages (from jinja2->torch>=1.8.0->ultralytics) (3.0.2)\n",
            "Downloading ultralytics-8.3.40-py3-none-any.whl (898 kB)\n",
            "\u001b[2K   \u001b[90m━━━━━━━━━━━━━━━━━━━━━━━━━━━━━━━━━━━━━━━━\u001b[0m \u001b[32m898.5/898.5 kB\u001b[0m \u001b[31m19.4 MB/s\u001b[0m eta \u001b[36m0:00:00\u001b[0m\n",
            "\u001b[?25hDownloading ultralytics_thop-2.0.12-py3-none-any.whl (26 kB)\n",
            "Installing collected packages: ultralytics-thop, ultralytics\n",
            "Successfully installed ultralytics-8.3.40 ultralytics-thop-2.0.12\n"
          ]
        }
      ],
      "source": [
        "!pip install ultralytics"
      ]
    },
    {
      "cell_type": "code",
      "execution_count": null,
      "metadata": {
        "colab": {
          "base_uri": "https://localhost:8080/"
        },
        "id": "-gOROSzHzoPz",
        "outputId": "639f2dcf-21ad-4d1f-ecb0-08478fd5cf9d"
      },
      "outputs": [
        {
          "name": "stdout",
          "output_type": "stream",
          "text": [
            "Looking in indexes: https://download.pytorch.org/whl/cu121\n",
            "Requirement already satisfied: torch in /usr/local/lib/python3.10/dist-packages (2.5.1+cu121)\n",
            "Requirement already satisfied: torchvision in /usr/local/lib/python3.10/dist-packages (0.20.1+cu121)\n",
            "Requirement already satisfied: torchaudio in /usr/local/lib/python3.10/dist-packages (2.5.1+cu121)\n",
            "Requirement already satisfied: filelock in /usr/local/lib/python3.10/dist-packages (from torch) (3.16.1)\n",
            "Requirement already satisfied: typing-extensions>=4.8.0 in /usr/local/lib/python3.10/dist-packages (from torch) (4.12.2)\n",
            "Requirement already satisfied: networkx in /usr/local/lib/python3.10/dist-packages (from torch) (3.4.2)\n",
            "Requirement already satisfied: jinja2 in /usr/local/lib/python3.10/dist-packages (from torch) (3.1.4)\n",
            "Requirement already satisfied: fsspec in /usr/local/lib/python3.10/dist-packages (from torch) (2024.10.0)\n",
            "Requirement already satisfied: sympy==1.13.1 in /usr/local/lib/python3.10/dist-packages (from torch) (1.13.1)\n",
            "Requirement already satisfied: mpmath<1.4,>=1.1.0 in /usr/local/lib/python3.10/dist-packages (from sympy==1.13.1->torch) (1.3.0)\n",
            "Requirement already satisfied: numpy in /usr/local/lib/python3.10/dist-packages (from torchvision) (1.26.4)\n",
            "Requirement already satisfied: pillow!=8.3.*,>=5.3.0 in /usr/local/lib/python3.10/dist-packages (from torchvision) (11.0.0)\n",
            "Requirement already satisfied: MarkupSafe>=2.0 in /usr/local/lib/python3.10/dist-packages (from jinja2->torch) (3.0.2)\n"
          ]
        }
      ],
      "source": [
        "!pip install torch torchvision torchaudio --index-url https://download.pytorch.org/whl/cu121"
      ]
    },
    {
      "cell_type": "code",
      "execution_count": null,
      "metadata": {
        "colab": {
          "base_uri": "https://localhost:8080/"
        },
        "id": "r4tFePm99tZq",
        "outputId": "eb719005-93e0-4e3f-9953-3a9577482e86"
      },
      "outputs": [
        {
          "output_type": "stream",
          "name": "stdout",
          "text": [
            "Wed Dec  4 05:25:13 2024       \n",
            "+---------------------------------------------------------------------------------------+\n",
            "| NVIDIA-SMI 535.104.05             Driver Version: 535.104.05   CUDA Version: 12.2     |\n",
            "|-----------------------------------------+----------------------+----------------------+\n",
            "| GPU  Name                 Persistence-M | Bus-Id        Disp.A | Volatile Uncorr. ECC |\n",
            "| Fan  Temp   Perf          Pwr:Usage/Cap |         Memory-Usage | GPU-Util  Compute M. |\n",
            "|                                         |                      |               MIG M. |\n",
            "|=========================================+======================+======================|\n",
            "|   0  Tesla T4                       Off | 00000000:00:04.0 Off |                    0 |\n",
            "| N/A   36C    P8               9W /  70W |      0MiB / 15360MiB |      0%      Default |\n",
            "|                                         |                      |                  N/A |\n",
            "+-----------------------------------------+----------------------+----------------------+\n",
            "                                                                                         \n",
            "+---------------------------------------------------------------------------------------+\n",
            "| Processes:                                                                            |\n",
            "|  GPU   GI   CI        PID   Type   Process name                            GPU Memory |\n",
            "|        ID   ID                                                             Usage      |\n",
            "|=======================================================================================|\n",
            "|  No running processes found                                                           |\n",
            "+---------------------------------------------------------------------------------------+\n"
          ]
        }
      ],
      "source": [
        "!nvidia-smi"
      ]
    },
    {
      "cell_type": "code",
      "execution_count": null,
      "metadata": {
        "colab": {
          "base_uri": "https://localhost:8080/"
        },
        "id": "e0qFdKn_xHym",
        "outputId": "b25781fb-8b24-4977-df8d-f66a339306ac"
      },
      "outputs": [
        {
          "metadata": {
            "tags": null
          },
          "name": "stdout",
          "output_type": "stream",
          "text": [
            "Creating new Ultralytics Settings v0.0.6 file ✅ \n",
            "View Ultralytics Settings with 'yolo settings' or at '/root/.config/Ultralytics/settings.json'\n",
            "Update Settings with 'yolo settings key=value', i.e. 'yolo settings runs_dir=path/to/dir'. For help see https://docs.ultralytics.com/quickstart/#ultralytics-settings.\n",
            "Downloading https://github.com/ultralytics/assets/releases/download/v8.3.0/yolo11n.pt to '/content/yolo11n.pt'...\n"
          ]
        },
        {
          "metadata": {
            "tags": null
          },
          "name": "stderr",
          "output_type": "stream",
          "text": [
            "100%|██████████| 5.35M/5.35M [00:00<00:00, 68.3MB/s]\n"
          ]
        },
        {
          "metadata": {
            "tags": null
          },
          "name": "stdout",
          "output_type": "stream",
          "text": [
            "Ultralytics 8.3.40 🚀 Python-3.10.12 torch-2.5.1+cu121 CUDA:0 (Tesla T4, 15102MiB)\n",
            "\u001b[34m\u001b[1mengine/trainer: \u001b[0mtask=detect, mode=train, model=/content/yolo11n.pt, data=/content/Fire-Extinguisher-Detection-3/data.yaml, epochs=50, time=None, patience=100, batch=16, imgsz=640, save=True, save_period=-1, cache=False, device=0, workers=8, project=None, name=train, exist_ok=False, pretrained=True, optimizer=auto, verbose=True, seed=0, deterministic=True, single_cls=False, rect=False, cos_lr=False, close_mosaic=10, resume=False, amp=True, fraction=1.0, profile=False, freeze=None, multi_scale=False, overlap_mask=True, mask_ratio=4, dropout=0.0, val=True, split=val, save_json=False, save_hybrid=False, conf=None, iou=0.7, max_det=300, half=False, dnn=False, plots=True, source=None, vid_stride=1, stream_buffer=False, visualize=False, augment=False, agnostic_nms=False, classes=None, retina_masks=False, embed=None, show=False, save_frames=False, save_txt=False, save_conf=False, save_crop=False, show_labels=True, show_conf=True, show_boxes=True, line_width=None, format=torchscript, keras=False, optimize=False, int8=False, dynamic=False, simplify=True, opset=None, workspace=None, nms=False, lr0=0.01, lrf=0.01, momentum=0.937, weight_decay=0.0005, warmup_epochs=3.0, warmup_momentum=0.8, warmup_bias_lr=0.1, box=7.5, cls=0.5, dfl=1.5, pose=12.0, kobj=1.0, nbs=64, hsv_h=0.015, hsv_s=0.7, hsv_v=0.4, degrees=0.0, translate=0.1, scale=0.5, shear=0.0, perspective=0.0, flipud=0.0, fliplr=0.5, bgr=0.0, mosaic=1.0, mixup=0.0, copy_paste=0.0, copy_paste_mode=flip, auto_augment=randaugment, erasing=0.4, crop_fraction=1.0, cfg=None, tracker=botsort.yaml, save_dir=runs/detect/train\n",
            "Downloading https://ultralytics.com/assets/Arial.ttf to '/root/.config/Ultralytics/Arial.ttf'...\n"
          ]
        },
        {
          "metadata": {
            "tags": null
          },
          "name": "stderr",
          "output_type": "stream",
          "text": [
            "100%|██████████| 755k/755k [00:02<00:00, 370kB/s]\n"
          ]
        },
        {
          "metadata": {
            "tags": null
          },
          "name": "stdout",
          "output_type": "stream",
          "text": [
            "Overriding model.yaml nc=80 with nc=1\n",
            "\n",
            "                   from  n    params  module                                       arguments                     \n",
            "  0                  -1  1       464  ultralytics.nn.modules.conv.Conv             [3, 16, 3, 2]                 \n",
            "  1                  -1  1      4672  ultralytics.nn.modules.conv.Conv             [16, 32, 3, 2]                \n",
            "  2                  -1  1      6640  ultralytics.nn.modules.block.C3k2            [32, 64, 1, False, 0.25]      \n",
            "  3                  -1  1     36992  ultralytics.nn.modules.conv.Conv             [64, 64, 3, 2]                \n",
            "  4                  -1  1     26080  ultralytics.nn.modules.block.C3k2            [64, 128, 1, False, 0.25]     \n",
            "  5                  -1  1    147712  ultralytics.nn.modules.conv.Conv             [128, 128, 3, 2]              \n",
            "  6                  -1  1     87040  ultralytics.nn.modules.block.C3k2            [128, 128, 1, True]           \n",
            "  7                  -1  1    295424  ultralytics.nn.modules.conv.Conv             [128, 256, 3, 2]              \n",
            "  8                  -1  1    346112  ultralytics.nn.modules.block.C3k2            [256, 256, 1, True]           \n",
            "  9                  -1  1    164608  ultralytics.nn.modules.block.SPPF            [256, 256, 5]                 \n",
            " 10                  -1  1    249728  ultralytics.nn.modules.block.C2PSA           [256, 256, 1]                 \n",
            " 11                  -1  1         0  torch.nn.modules.upsampling.Upsample         [None, 2, 'nearest']          \n",
            " 12             [-1, 6]  1         0  ultralytics.nn.modules.conv.Concat           [1]                           \n",
            " 13                  -1  1    111296  ultralytics.nn.modules.block.C3k2            [384, 128, 1, False]          \n",
            " 14                  -1  1         0  torch.nn.modules.upsampling.Upsample         [None, 2, 'nearest']          \n",
            " 15             [-1, 4]  1         0  ultralytics.nn.modules.conv.Concat           [1]                           \n",
            " 16                  -1  1     32096  ultralytics.nn.modules.block.C3k2            [256, 64, 1, False]           \n",
            " 17                  -1  1     36992  ultralytics.nn.modules.conv.Conv             [64, 64, 3, 2]                \n",
            " 18            [-1, 13]  1         0  ultralytics.nn.modules.conv.Concat           [1]                           \n",
            " 19                  -1  1     86720  ultralytics.nn.modules.block.C3k2            [192, 128, 1, False]          \n",
            " 20                  -1  1    147712  ultralytics.nn.modules.conv.Conv             [128, 128, 3, 2]              \n",
            " 21            [-1, 10]  1         0  ultralytics.nn.modules.conv.Concat           [1]                           \n",
            " 22                  -1  1    378880  ultralytics.nn.modules.block.C3k2            [384, 256, 1, True]           \n",
            " 23        [16, 19, 22]  1    430867  ultralytics.nn.modules.head.Detect           [1, [64, 128, 256]]           \n",
            "YOLO11n summary: 319 layers, 2,590,035 parameters, 2,590,019 gradients, 6.4 GFLOPs\n",
            "\n",
            "Transferred 448/499 items from pretrained weights\n",
            "\u001b[34m\u001b[1mTensorBoard: \u001b[0mStart with 'tensorboard --logdir runs/detect/train', view at http://localhost:6006/\n",
            "Freezing layer 'model.23.dfl.conv.weight'\n",
            "\u001b[34m\u001b[1mAMP: \u001b[0mrunning Automatic Mixed Precision (AMP) checks...\n",
            "\u001b[34m\u001b[1mAMP: \u001b[0mchecks passed ✅\n"
          ]
        },
        {
          "metadata": {
            "tags": null
          },
          "name": "stderr",
          "output_type": "stream",
          "text": [
            "\u001b[34m\u001b[1mtrain: \u001b[0mScanning /content/Fire-Extinguisher-Detection-3/train/labels... 5865 images, 1 backgrounds, 0 corrupt: 100%|██████████| 5865/5865 [00:03<00:00, 1684.39it/s]"
          ]
        },
        {
          "metadata": {
            "tags": null
          },
          "name": "stdout",
          "output_type": "stream",
          "text": [
            "\u001b[34m\u001b[1mtrain: \u001b[0mWARNING ⚠️ /content/Fire-Extinguisher-Detection-3/train/images/1675_jpg.rf.1bccd9d8ef30cf76c9583057bfc1b098.jpg: 1 duplicate labels removed\n"
          ]
        },
        {
          "metadata": {
            "tags": null
          },
          "name": "stderr",
          "output_type": "stream",
          "text": [
            "\n"
          ]
        },
        {
          "metadata": {
            "tags": null
          },
          "name": "stdout",
          "output_type": "stream",
          "text": [
            "\u001b[34m\u001b[1mtrain: \u001b[0mNew cache created: /content/Fire-Extinguisher-Detection-3/train/labels.cache\n",
            "\u001b[34m\u001b[1malbumentations: \u001b[0mBlur(p=0.01, blur_limit=(3, 7)), MedianBlur(p=0.01, blur_limit=(3, 7)), ToGray(p=0.01, num_output_channels=3, method='weighted_average'), CLAHE(p=0.01, clip_limit=(1.0, 4.0), tile_grid_size=(8, 8))\n"
          ]
        },
        {
          "metadata": {
            "tags": null
          },
          "name": "stderr",
          "output_type": "stream",
          "text": [
            "A new version of Albumentations is available: 1.4.21 (you have 1.4.20). Upgrade using: pip install -U albumentations. To disable automatic update checks, set the environment variable NO_ALBUMENTATIONS_UPDATE to 1.\n",
            "\u001b[34m\u001b[1mval: \u001b[0mScanning /content/Fire-Extinguisher-Detection-3/valid/labels... 328 images, 0 backgrounds, 0 corrupt: 100%|██████████| 328/328 [00:00<00:00, 1082.14it/s]"
          ]
        },
        {
          "metadata": {
            "tags": null
          },
          "name": "stdout",
          "output_type": "stream",
          "text": [
            "\u001b[34m\u001b[1mval: \u001b[0mNew cache created: /content/Fire-Extinguisher-Detection-3/valid/labels.cache\n"
          ]
        },
        {
          "metadata": {
            "tags": null
          },
          "name": "stderr",
          "output_type": "stream",
          "text": [
            "\n"
          ]
        },
        {
          "metadata": {
            "tags": null
          },
          "name": "stdout",
          "output_type": "stream",
          "text": [
            "Plotting labels to runs/detect/train/labels.jpg... \n",
            "\u001b[34m\u001b[1moptimizer:\u001b[0m 'optimizer=auto' found, ignoring 'lr0=0.01' and 'momentum=0.937' and determining best 'optimizer', 'lr0' and 'momentum' automatically... \n",
            "\u001b[34m\u001b[1moptimizer:\u001b[0m AdamW(lr=0.002, momentum=0.9) with parameter groups 81 weight(decay=0.0), 88 weight(decay=0.0005), 87 bias(decay=0.0)\n",
            "\u001b[34m\u001b[1mTensorBoard: \u001b[0mmodel graph visualization added ✅\n",
            "Image sizes 640 train, 640 val\n",
            "Using 2 dataloader workers\n",
            "Logging results to \u001b[1mruns/detect/train\u001b[0m\n",
            "Starting training for 50 epochs...\n",
            "\n",
            "      Epoch    GPU_mem   box_loss   cls_loss   dfl_loss  Instances       Size\n"
          ]
        },
        {
          "metadata": {
            "tags": null
          },
          "name": "stderr",
          "output_type": "stream",
          "text": [
            "       1/50      2.59G      1.248      1.703      1.623         35        640: 100%|██████████| 367/367 [02:06<00:00,  2.90it/s]\n",
            "                 Class     Images  Instances      Box(P          R      mAP50  mAP50-95): 100%|██████████| 11/11 [00:03<00:00,  2.84it/s]"
          ]
        },
        {
          "metadata": {
            "tags": null
          },
          "name": "stdout",
          "output_type": "stream",
          "text": [
            "                   all        328        606      0.375      0.528      0.337      0.167\n"
          ]
        },
        {
          "metadata": {
            "tags": null
          },
          "name": "stderr",
          "output_type": "stream",
          "text": [
            "\n"
          ]
        },
        {
          "metadata": {
            "tags": null
          },
          "name": "stdout",
          "output_type": "stream",
          "text": [
            "\n",
            "      Epoch    GPU_mem   box_loss   cls_loss   dfl_loss  Instances       Size\n"
          ]
        },
        {
          "metadata": {
            "tags": null
          },
          "name": "stderr",
          "output_type": "stream",
          "text": [
            "       2/50      2.47G      1.327      1.445      1.696         36        640: 100%|██████████| 367/367 [01:59<00:00,  3.06it/s]\n",
            "                 Class     Images  Instances      Box(P          R      mAP50  mAP50-95): 100%|██████████| 11/11 [00:02<00:00,  4.11it/s]\n"
          ]
        },
        {
          "metadata": {
            "tags": null
          },
          "name": "stdout",
          "output_type": "stream",
          "text": [
            "                   all        328        606      0.611      0.573      0.609      0.354\n",
            "\n",
            "      Epoch    GPU_mem   box_loss   cls_loss   dfl_loss  Instances       Size\n"
          ]
        },
        {
          "metadata": {
            "tags": null
          },
          "name": "stderr",
          "output_type": "stream",
          "text": [
            "       3/50      2.51G      1.347      1.405      1.713         33        640: 100%|██████████| 367/367 [01:58<00:00,  3.11it/s]\n",
            "                 Class     Images  Instances      Box(P          R      mAP50  mAP50-95): 100%|██████████| 11/11 [00:03<00:00,  3.14it/s]\n"
          ]
        },
        {
          "metadata": {
            "tags": null
          },
          "name": "stdout",
          "output_type": "stream",
          "text": [
            "                   all        328        606      0.724      0.609      0.679       0.42\n",
            "\n",
            "      Epoch    GPU_mem   box_loss   cls_loss   dfl_loss  Instances       Size\n"
          ]
        },
        {
          "metadata": {
            "tags": null
          },
          "name": "stderr",
          "output_type": "stream",
          "text": [
            "       4/50      2.57G       1.29      1.318      1.662         56        640: 100%|██████████| 367/367 [01:57<00:00,  3.14it/s]\n",
            "                 Class     Images  Instances      Box(P          R      mAP50  mAP50-95): 100%|██████████| 11/11 [00:04<00:00,  2.64it/s]"
          ]
        },
        {
          "metadata": {
            "tags": null
          },
          "name": "stdout",
          "output_type": "stream",
          "text": [
            "                   all        328        606      0.717       0.63      0.699        0.4\n"
          ]
        },
        {
          "metadata": {
            "tags": null
          },
          "name": "stderr",
          "output_type": "stream",
          "text": [
            "\n"
          ]
        },
        {
          "metadata": {
            "tags": null
          },
          "name": "stdout",
          "output_type": "stream",
          "text": [
            "\n",
            "      Epoch    GPU_mem   box_loss   cls_loss   dfl_loss  Instances       Size\n"
          ]
        },
        {
          "metadata": {
            "tags": null
          },
          "name": "stderr",
          "output_type": "stream",
          "text": [
            "       5/50      2.44G      1.237      1.237      1.609         34        640: 100%|██████████| 367/367 [01:56<00:00,  3.14it/s]\n",
            "                 Class     Images  Instances      Box(P          R      mAP50  mAP50-95): 100%|██████████| 11/11 [00:02<00:00,  4.29it/s]"
          ]
        },
        {
          "metadata": {
            "tags": null
          },
          "name": "stdout",
          "output_type": "stream",
          "text": [
            "                   all        328        606      0.769      0.625      0.714      0.461\n"
          ]
        },
        {
          "metadata": {
            "tags": null
          },
          "name": "stderr",
          "output_type": "stream",
          "text": [
            "\n"
          ]
        },
        {
          "metadata": {
            "tags": null
          },
          "name": "stdout",
          "output_type": "stream",
          "text": [
            "\n",
            "      Epoch    GPU_mem   box_loss   cls_loss   dfl_loss  Instances       Size\n"
          ]
        },
        {
          "metadata": {
            "tags": null
          },
          "name": "stderr",
          "output_type": "stream",
          "text": [
            "       6/50      2.52G      1.189      1.187      1.587         41        640: 100%|██████████| 367/367 [01:59<00:00,  3.07it/s]\n",
            "                 Class     Images  Instances      Box(P          R      mAP50  mAP50-95): 100%|██████████| 11/11 [00:02<00:00,  4.52it/s]"
          ]
        },
        {
          "metadata": {
            "tags": null
          },
          "name": "stdout",
          "output_type": "stream",
          "text": [
            "                   all        328        606      0.815      0.653      0.762      0.503\n"
          ]
        },
        {
          "metadata": {
            "tags": null
          },
          "name": "stderr",
          "output_type": "stream",
          "text": [
            "\n"
          ]
        },
        {
          "metadata": {
            "tags": null
          },
          "name": "stdout",
          "output_type": "stream",
          "text": [
            "\n",
            "      Epoch    GPU_mem   box_loss   cls_loss   dfl_loss  Instances       Size\n"
          ]
        },
        {
          "metadata": {
            "tags": null
          },
          "name": "stderr",
          "output_type": "stream",
          "text": [
            "       7/50      2.54G      1.142      1.133       1.55         45        640: 100%|██████████| 367/367 [01:57<00:00,  3.14it/s]\n",
            "                 Class     Images  Instances      Box(P          R      mAP50  mAP50-95): 100%|██████████| 11/11 [00:03<00:00,  3.17it/s]"
          ]
        },
        {
          "metadata": {
            "tags": null
          },
          "name": "stdout",
          "output_type": "stream",
          "text": [
            "                   all        328        606      0.801      0.683      0.775      0.537\n"
          ]
        },
        {
          "metadata": {
            "tags": null
          },
          "name": "stderr",
          "output_type": "stream",
          "text": [
            "\n"
          ]
        },
        {
          "metadata": {
            "tags": null
          },
          "name": "stdout",
          "output_type": "stream",
          "text": [
            "\n",
            "      Epoch    GPU_mem   box_loss   cls_loss   dfl_loss  Instances       Size\n"
          ]
        },
        {
          "metadata": {
            "tags": null
          },
          "name": "stderr",
          "output_type": "stream",
          "text": [
            "       8/50      2.57G      1.124      1.098      1.533         42        640: 100%|██████████| 367/367 [01:55<00:00,  3.17it/s]\n",
            "                 Class     Images  Instances      Box(P          R      mAP50  mAP50-95): 100%|██████████| 11/11 [00:04<00:00,  2.51it/s]"
          ]
        },
        {
          "metadata": {
            "tags": null
          },
          "name": "stdout",
          "output_type": "stream",
          "text": [
            "                   all        328        606      0.814      0.682      0.792      0.557\n"
          ]
        },
        {
          "metadata": {
            "tags": null
          },
          "name": "stderr",
          "output_type": "stream",
          "text": [
            "\n"
          ]
        },
        {
          "metadata": {
            "tags": null
          },
          "name": "stdout",
          "output_type": "stream",
          "text": [
            "\n",
            "      Epoch    GPU_mem   box_loss   cls_loss   dfl_loss  Instances       Size\n"
          ]
        },
        {
          "metadata": {
            "tags": null
          },
          "name": "stderr",
          "output_type": "stream",
          "text": [
            "       9/50      2.53G      1.083      1.056      1.492         29        640: 100%|██████████| 367/367 [01:59<00:00,  3.07it/s]\n",
            "                 Class     Images  Instances      Box(P          R      mAP50  mAP50-95): 100%|██████████| 11/11 [00:02<00:00,  4.27it/s]"
          ]
        },
        {
          "metadata": {
            "tags": null
          },
          "name": "stdout",
          "output_type": "stream",
          "text": [
            "                   all        328        606      0.749      0.782      0.819      0.576\n"
          ]
        },
        {
          "metadata": {
            "tags": null
          },
          "name": "stderr",
          "output_type": "stream",
          "text": [
            "\n"
          ]
        },
        {
          "metadata": {
            "tags": null
          },
          "name": "stdout",
          "output_type": "stream",
          "text": [
            "\n",
            "      Epoch    GPU_mem   box_loss   cls_loss   dfl_loss  Instances       Size\n"
          ]
        },
        {
          "metadata": {
            "tags": null
          },
          "name": "stderr",
          "output_type": "stream",
          "text": [
            "      10/50      2.47G      1.067      1.027      1.478         42        640: 100%|██████████| 367/367 [01:57<00:00,  3.13it/s]\n",
            "                 Class     Images  Instances      Box(P          R      mAP50  mAP50-95): 100%|██████████| 11/11 [00:02<00:00,  4.49it/s]"
          ]
        },
        {
          "metadata": {
            "tags": null
          },
          "name": "stdout",
          "output_type": "stream",
          "text": [
            "                   all        328        606      0.801      0.718      0.813      0.555\n"
          ]
        },
        {
          "metadata": {
            "tags": null
          },
          "name": "stderr",
          "output_type": "stream",
          "text": [
            "\n"
          ]
        },
        {
          "metadata": {
            "tags": null
          },
          "name": "stdout",
          "output_type": "stream",
          "text": [
            "\n",
            "      Epoch    GPU_mem   box_loss   cls_loss   dfl_loss  Instances       Size\n"
          ]
        },
        {
          "metadata": {
            "tags": null
          },
          "name": "stderr",
          "output_type": "stream",
          "text": [
            "      11/50      2.43G      1.048      1.003      1.469         32        640: 100%|██████████| 367/367 [02:00<00:00,  3.05it/s]\n",
            "                 Class     Images  Instances      Box(P          R      mAP50  mAP50-95): 100%|██████████| 11/11 [00:02<00:00,  3.76it/s]"
          ]
        },
        {
          "metadata": {
            "tags": null
          },
          "name": "stdout",
          "output_type": "stream",
          "text": [
            "                   all        328        606      0.813      0.724      0.817      0.581\n"
          ]
        },
        {
          "metadata": {
            "tags": null
          },
          "name": "stderr",
          "output_type": "stream",
          "text": [
            "\n"
          ]
        },
        {
          "metadata": {
            "tags": null
          },
          "name": "stdout",
          "output_type": "stream",
          "text": [
            "\n",
            "      Epoch    GPU_mem   box_loss   cls_loss   dfl_loss  Instances       Size\n"
          ]
        },
        {
          "metadata": {
            "tags": null
          },
          "name": "stderr",
          "output_type": "stream",
          "text": [
            "      12/50      2.47G      1.025     0.9797      1.452         28        640: 100%|██████████| 367/367 [01:56<00:00,  3.15it/s]\n",
            "                 Class     Images  Instances      Box(P          R      mAP50  mAP50-95): 100%|██████████| 11/11 [00:04<00:00,  2.63it/s]"
          ]
        },
        {
          "metadata": {
            "tags": null
          },
          "name": "stdout",
          "output_type": "stream",
          "text": [
            "                   all        328        606      0.794      0.716      0.805      0.574\n"
          ]
        },
        {
          "metadata": {
            "tags": null
          },
          "name": "stderr",
          "output_type": "stream",
          "text": [
            "\n"
          ]
        },
        {
          "metadata": {
            "tags": null
          },
          "name": "stdout",
          "output_type": "stream",
          "text": [
            "\n",
            "      Epoch    GPU_mem   box_loss   cls_loss   dfl_loss  Instances       Size\n"
          ]
        },
        {
          "metadata": {
            "tags": null
          },
          "name": "stderr",
          "output_type": "stream",
          "text": [
            "      13/50      2.47G      1.011     0.9617      1.432         34        640: 100%|██████████| 367/367 [01:57<00:00,  3.13it/s]\n",
            "                 Class     Images  Instances      Box(P          R      mAP50  mAP50-95): 100%|██████████| 11/11 [00:02<00:00,  3.88it/s]"
          ]
        },
        {
          "metadata": {
            "tags": null
          },
          "name": "stdout",
          "output_type": "stream",
          "text": [
            "                   all        328        606       0.87      0.729      0.832      0.609\n"
          ]
        },
        {
          "metadata": {
            "tags": null
          },
          "name": "stderr",
          "output_type": "stream",
          "text": [
            "\n"
          ]
        },
        {
          "metadata": {
            "tags": null
          },
          "name": "stdout",
          "output_type": "stream",
          "text": [
            "\n",
            "      Epoch    GPU_mem   box_loss   cls_loss   dfl_loss  Instances       Size\n"
          ]
        },
        {
          "metadata": {
            "tags": null
          },
          "name": "stderr",
          "output_type": "stream",
          "text": [
            "      14/50      2.55G      1.008     0.9468      1.436         40        640: 100%|██████████| 367/367 [02:01<00:00,  3.01it/s]\n",
            "                 Class     Images  Instances      Box(P          R      mAP50  mAP50-95): 100%|██████████| 11/11 [00:02<00:00,  3.98it/s]\n"
          ]
        },
        {
          "metadata": {
            "tags": null
          },
          "name": "stdout",
          "output_type": "stream",
          "text": [
            "                   all        328        606       0.85      0.716      0.827      0.601\n",
            "\n",
            "      Epoch    GPU_mem   box_loss   cls_loss   dfl_loss  Instances       Size\n"
          ]
        },
        {
          "metadata": {
            "tags": null
          },
          "name": "stderr",
          "output_type": "stream",
          "text": [
            "      15/50      2.51G      1.004     0.9359      1.426         39        640: 100%|██████████| 367/367 [02:07<00:00,  2.89it/s]\n",
            "                 Class     Images  Instances      Box(P          R      mAP50  mAP50-95): 100%|██████████| 11/11 [00:03<00:00,  3.63it/s]"
          ]
        },
        {
          "metadata": {
            "tags": null
          },
          "name": "stdout",
          "output_type": "stream",
          "text": [
            "                   all        328        606      0.838      0.723      0.831      0.587\n"
          ]
        },
        {
          "metadata": {
            "tags": null
          },
          "name": "stderr",
          "output_type": "stream",
          "text": [
            "\n"
          ]
        },
        {
          "metadata": {
            "tags": null
          },
          "name": "stdout",
          "output_type": "stream",
          "text": [
            "\n",
            "      Epoch    GPU_mem   box_loss   cls_loss   dfl_loss  Instances       Size\n"
          ]
        },
        {
          "metadata": {
            "tags": null
          },
          "name": "stderr",
          "output_type": "stream",
          "text": [
            "      16/50      2.44G     0.9865     0.9154      1.415         50        640: 100%|██████████| 367/367 [02:02<00:00,  2.99it/s]\n",
            "                 Class     Images  Instances      Box(P          R      mAP50  mAP50-95): 100%|██████████| 11/11 [00:02<00:00,  4.29it/s]"
          ]
        },
        {
          "metadata": {
            "tags": null
          },
          "name": "stdout",
          "output_type": "stream",
          "text": [
            "                   all        328        606      0.851      0.764       0.85       0.61\n"
          ]
        },
        {
          "metadata": {
            "tags": null
          },
          "name": "stderr",
          "output_type": "stream",
          "text": [
            "\n"
          ]
        },
        {
          "metadata": {
            "tags": null
          },
          "name": "stdout",
          "output_type": "stream",
          "text": [
            "\n",
            "      Epoch    GPU_mem   box_loss   cls_loss   dfl_loss  Instances       Size\n"
          ]
        },
        {
          "metadata": {
            "tags": null
          },
          "name": "stderr",
          "output_type": "stream",
          "text": [
            "      17/50      2.47G     0.9684     0.9041      1.402         33        640: 100%|██████████| 367/367 [01:56<00:00,  3.15it/s]\n",
            "                 Class     Images  Instances      Box(P          R      mAP50  mAP50-95): 100%|██████████| 11/11 [00:02<00:00,  4.50it/s]"
          ]
        },
        {
          "metadata": {
            "tags": null
          },
          "name": "stdout",
          "output_type": "stream",
          "text": [
            "                   all        328        606      0.875      0.715      0.844      0.617\n"
          ]
        },
        {
          "metadata": {
            "tags": null
          },
          "name": "stderr",
          "output_type": "stream",
          "text": [
            "\n"
          ]
        },
        {
          "metadata": {
            "tags": null
          },
          "name": "stdout",
          "output_type": "stream",
          "text": [
            "\n",
            "      Epoch    GPU_mem   box_loss   cls_loss   dfl_loss  Instances       Size\n"
          ]
        },
        {
          "metadata": {
            "tags": null
          },
          "name": "stderr",
          "output_type": "stream",
          "text": [
            "      18/50      2.47G     0.9545     0.8791      1.383         63        640: 100%|██████████| 367/367 [01:57<00:00,  3.12it/s]\n",
            "                 Class     Images  Instances      Box(P          R      mAP50  mAP50-95): 100%|██████████| 11/11 [00:02<00:00,  4.48it/s]"
          ]
        },
        {
          "metadata": {
            "tags": null
          },
          "name": "stdout",
          "output_type": "stream",
          "text": [
            "                   all        328        606      0.839      0.777      0.848      0.615\n"
          ]
        },
        {
          "metadata": {
            "tags": null
          },
          "name": "stderr",
          "output_type": "stream",
          "text": [
            "\n"
          ]
        },
        {
          "metadata": {
            "tags": null
          },
          "name": "stdout",
          "output_type": "stream",
          "text": [
            "\n",
            "      Epoch    GPU_mem   box_loss   cls_loss   dfl_loss  Instances       Size\n"
          ]
        },
        {
          "metadata": {
            "tags": null
          },
          "name": "stderr",
          "output_type": "stream",
          "text": [
            "      19/50      2.54G     0.9403      0.877      1.384         45        640: 100%|██████████| 367/367 [01:58<00:00,  3.11it/s]\n",
            "                 Class     Images  Instances      Box(P          R      mAP50  mAP50-95): 100%|██████████| 11/11 [00:04<00:00,  2.61it/s]"
          ]
        },
        {
          "metadata": {
            "tags": null
          },
          "name": "stdout",
          "output_type": "stream",
          "text": [
            "                   all        328        606      0.844      0.753      0.846      0.621\n"
          ]
        },
        {
          "metadata": {
            "tags": null
          },
          "name": "stderr",
          "output_type": "stream",
          "text": [
            "\n"
          ]
        },
        {
          "metadata": {
            "tags": null
          },
          "name": "stdout",
          "output_type": "stream",
          "text": [
            "\n",
            "      Epoch    GPU_mem   box_loss   cls_loss   dfl_loss  Instances       Size\n"
          ]
        },
        {
          "metadata": {
            "tags": null
          },
          "name": "stderr",
          "output_type": "stream",
          "text": [
            "      20/50      2.42G     0.9383     0.8722      1.382         59        640: 100%|██████████| 367/367 [01:53<00:00,  3.23it/s]\n",
            "                 Class     Images  Instances      Box(P          R      mAP50  mAP50-95): 100%|██████████| 11/11 [00:02<00:00,  4.65it/s]"
          ]
        },
        {
          "metadata": {
            "tags": null
          },
          "name": "stdout",
          "output_type": "stream",
          "text": [
            "                   all        328        606      0.846      0.759      0.846      0.633\n"
          ]
        },
        {
          "metadata": {
            "tags": null
          },
          "name": "stderr",
          "output_type": "stream",
          "text": [
            "\n"
          ]
        },
        {
          "metadata": {
            "tags": null
          },
          "name": "stdout",
          "output_type": "stream",
          "text": [
            "\n",
            "      Epoch    GPU_mem   box_loss   cls_loss   dfl_loss  Instances       Size\n"
          ]
        },
        {
          "output_type": "stream",
          "name": "stderr",
          "text": [
            "      21/50      2.47G     0.9228     0.8476      1.365         59        640: 100%|██████████| 367/367 [01:54<00:00,  3.19it/s]\n",
            "                 Class     Images  Instances      Box(P          R      mAP50  mAP50-95): 100%|██████████| 11/11 [00:02<00:00,  4.62it/s]"
          ]
        },
        {
          "output_type": "stream",
          "name": "stdout",
          "text": [
            "                   all        328        606      0.872      0.756      0.862      0.638\n"
          ]
        },
        {
          "output_type": "stream",
          "name": "stderr",
          "text": [
            "\n"
          ]
        },
        {
          "output_type": "stream",
          "name": "stdout",
          "text": [
            "\n",
            "      Epoch    GPU_mem   box_loss   cls_loss   dfl_loss  Instances       Size\n"
          ]
        },
        {
          "output_type": "stream",
          "name": "stderr",
          "text": [
            "      22/50      2.56G     0.9128     0.8296      1.353         37        640: 100%|██████████| 367/367 [02:00<00:00,  3.04it/s]\n",
            "                 Class     Images  Instances      Box(P          R      mAP50  mAP50-95): 100%|██████████| 11/11 [00:03<00:00,  2.92it/s]"
          ]
        },
        {
          "output_type": "stream",
          "name": "stdout",
          "text": [
            "                   all        328        606       0.88      0.757       0.86      0.641\n"
          ]
        },
        {
          "output_type": "stream",
          "name": "stderr",
          "text": [
            "\n"
          ]
        },
        {
          "output_type": "stream",
          "name": "stdout",
          "text": [
            "\n",
            "      Epoch    GPU_mem   box_loss   cls_loss   dfl_loss  Instances       Size\n"
          ]
        },
        {
          "output_type": "stream",
          "name": "stderr",
          "text": [
            "      23/50      2.54G      0.928     0.8321      1.366         37        640: 100%|██████████| 367/367 [01:56<00:00,  3.16it/s]\n",
            "                 Class     Images  Instances      Box(P          R      mAP50  mAP50-95): 100%|██████████| 11/11 [00:04<00:00,  2.70it/s]"
          ]
        },
        {
          "output_type": "stream",
          "name": "stdout",
          "text": [
            "                   all        328        606      0.856      0.771      0.852      0.625\n"
          ]
        },
        {
          "output_type": "stream",
          "name": "stderr",
          "text": [
            "\n"
          ]
        },
        {
          "output_type": "stream",
          "name": "stdout",
          "text": [
            "\n",
            "      Epoch    GPU_mem   box_loss   cls_loss   dfl_loss  Instances       Size\n"
          ]
        },
        {
          "output_type": "stream",
          "name": "stderr",
          "text": [
            "      24/50      2.49G     0.9065     0.8235      1.345         29        640: 100%|██████████| 367/367 [02:00<00:00,  3.04it/s]\n",
            "                 Class     Images  Instances      Box(P          R      mAP50  mAP50-95): 100%|██████████| 11/11 [00:02<00:00,  4.65it/s]"
          ]
        },
        {
          "output_type": "stream",
          "name": "stdout",
          "text": [
            "                   all        328        606      0.882      0.759      0.873      0.657\n"
          ]
        },
        {
          "output_type": "stream",
          "name": "stderr",
          "text": [
            "\n"
          ]
        },
        {
          "output_type": "stream",
          "name": "stdout",
          "text": [
            "\n",
            "      Epoch    GPU_mem   box_loss   cls_loss   dfl_loss  Instances       Size\n"
          ]
        },
        {
          "output_type": "stream",
          "name": "stderr",
          "text": [
            "      25/50      2.53G     0.8903     0.8044      1.339         38        640: 100%|██████████| 367/367 [01:57<00:00,  3.14it/s]\n",
            "                 Class     Images  Instances      Box(P          R      mAP50  mAP50-95): 100%|██████████| 11/11 [00:03<00:00,  2.92it/s]"
          ]
        },
        {
          "output_type": "stream",
          "name": "stdout",
          "text": [
            "                   all        328        606      0.868      0.794      0.867      0.652\n"
          ]
        },
        {
          "output_type": "stream",
          "name": "stderr",
          "text": [
            "\n"
          ]
        },
        {
          "output_type": "stream",
          "name": "stdout",
          "text": [
            "\n",
            "      Epoch    GPU_mem   box_loss   cls_loss   dfl_loss  Instances       Size\n"
          ]
        },
        {
          "output_type": "stream",
          "name": "stderr",
          "text": [
            "      26/50      2.56G     0.8827     0.7933      1.332         27        640: 100%|██████████| 367/367 [01:58<00:00,  3.09it/s]\n",
            "                 Class     Images  Instances      Box(P          R      mAP50  mAP50-95): 100%|██████████| 11/11 [00:02<00:00,  4.46it/s]"
          ]
        },
        {
          "output_type": "stream",
          "name": "stdout",
          "text": [
            "                   all        328        606      0.838      0.774      0.864      0.648\n"
          ]
        },
        {
          "output_type": "stream",
          "name": "stderr",
          "text": [
            "\n"
          ]
        },
        {
          "output_type": "stream",
          "name": "stdout",
          "text": [
            "\n",
            "      Epoch    GPU_mem   box_loss   cls_loss   dfl_loss  Instances       Size\n"
          ]
        },
        {
          "output_type": "stream",
          "name": "stderr",
          "text": [
            "      27/50       2.5G     0.8814     0.7852      1.327         47        640: 100%|██████████| 367/367 [01:59<00:00,  3.07it/s]\n",
            "                 Class     Images  Instances      Box(P          R      mAP50  mAP50-95): 100%|██████████| 11/11 [00:02<00:00,  4.28it/s]"
          ]
        },
        {
          "output_type": "stream",
          "name": "stdout",
          "text": [
            "                   all        328        606      0.875      0.762      0.869      0.655\n"
          ]
        },
        {
          "output_type": "stream",
          "name": "stderr",
          "text": [
            "\n"
          ]
        },
        {
          "output_type": "stream",
          "name": "stdout",
          "text": [
            "\n",
            "      Epoch    GPU_mem   box_loss   cls_loss   dfl_loss  Instances       Size\n"
          ]
        },
        {
          "output_type": "stream",
          "name": "stderr",
          "text": [
            "      28/50      2.47G     0.8761     0.7772      1.319         43        640: 100%|██████████| 367/367 [01:58<00:00,  3.09it/s]\n",
            "                 Class     Images  Instances      Box(P          R      mAP50  mAP50-95): 100%|██████████| 11/11 [00:03<00:00,  3.42it/s]\n"
          ]
        },
        {
          "output_type": "stream",
          "name": "stdout",
          "text": [
            "                   all        328        606      0.835      0.793       0.87       0.66\n",
            "\n",
            "      Epoch    GPU_mem   box_loss   cls_loss   dfl_loss  Instances       Size\n"
          ]
        },
        {
          "output_type": "stream",
          "name": "stderr",
          "text": [
            "      29/50      2.48G     0.8612     0.7646      1.315         41        640: 100%|██████████| 367/367 [01:57<00:00,  3.13it/s]\n",
            "                 Class     Images  Instances      Box(P          R      mAP50  mAP50-95): 100%|██████████| 11/11 [00:03<00:00,  3.36it/s]"
          ]
        },
        {
          "output_type": "stream",
          "name": "stdout",
          "text": [
            "                   all        328        606      0.853      0.765      0.867      0.655\n"
          ]
        },
        {
          "output_type": "stream",
          "name": "stderr",
          "text": [
            "\n"
          ]
        },
        {
          "output_type": "stream",
          "name": "stdout",
          "text": [
            "\n",
            "      Epoch    GPU_mem   box_loss   cls_loss   dfl_loss  Instances       Size\n"
          ]
        },
        {
          "output_type": "stream",
          "name": "stderr",
          "text": [
            "      30/50      2.49G     0.8663      0.769      1.319         28        640: 100%|██████████| 367/367 [02:00<00:00,  3.04it/s]\n",
            "                 Class     Images  Instances      Box(P          R      mAP50  mAP50-95): 100%|██████████| 11/11 [00:02<00:00,  4.36it/s]"
          ]
        },
        {
          "output_type": "stream",
          "name": "stdout",
          "text": [
            "                   all        328        606      0.889      0.777      0.883      0.673\n"
          ]
        },
        {
          "output_type": "stream",
          "name": "stderr",
          "text": [
            "\n"
          ]
        },
        {
          "output_type": "stream",
          "name": "stdout",
          "text": [
            "\n",
            "      Epoch    GPU_mem   box_loss   cls_loss   dfl_loss  Instances       Size\n"
          ]
        },
        {
          "output_type": "stream",
          "name": "stderr",
          "text": [
            "      31/50      2.53G     0.8659     0.7542      1.313         40        640: 100%|██████████| 367/367 [01:58<00:00,  3.09it/s]\n",
            "                 Class     Images  Instances      Box(P          R      mAP50  mAP50-95): 100%|██████████| 11/11 [00:03<00:00,  3.43it/s]\n"
          ]
        },
        {
          "output_type": "stream",
          "name": "stdout",
          "text": [
            "                   all        328        606      0.898      0.759       0.87      0.665\n",
            "\n",
            "      Epoch    GPU_mem   box_loss   cls_loss   dfl_loss  Instances       Size\n"
          ]
        },
        {
          "output_type": "stream",
          "name": "stderr",
          "text": [
            "      32/50      2.57G     0.8497     0.7457      1.302         41        640: 100%|██████████| 367/367 [02:01<00:00,  3.02it/s]\n",
            "                 Class     Images  Instances      Box(P          R      mAP50  mAP50-95): 100%|██████████| 11/11 [00:02<00:00,  4.24it/s]"
          ]
        },
        {
          "output_type": "stream",
          "name": "stdout",
          "text": [
            "                   all        328        606      0.845        0.8       0.88      0.668\n"
          ]
        },
        {
          "output_type": "stream",
          "name": "stderr",
          "text": [
            "\n"
          ]
        },
        {
          "output_type": "stream",
          "name": "stdout",
          "text": [
            "\n",
            "      Epoch    GPU_mem   box_loss   cls_loss   dfl_loss  Instances       Size\n"
          ]
        },
        {
          "output_type": "stream",
          "name": "stderr",
          "text": [
            "      33/50       2.5G     0.8326     0.7291      1.292         32        640: 100%|██████████| 367/367 [01:58<00:00,  3.10it/s]\n",
            "                 Class     Images  Instances      Box(P          R      mAP50  mAP50-95): 100%|██████████| 11/11 [00:02<00:00,  4.42it/s]"
          ]
        },
        {
          "output_type": "stream",
          "name": "stdout",
          "text": [
            "                   all        328        606      0.885      0.757      0.881      0.676\n"
          ]
        },
        {
          "output_type": "stream",
          "name": "stderr",
          "text": [
            "\n"
          ]
        },
        {
          "output_type": "stream",
          "name": "stdout",
          "text": [
            "\n",
            "      Epoch    GPU_mem   box_loss   cls_loss   dfl_loss  Instances       Size\n"
          ]
        },
        {
          "output_type": "stream",
          "name": "stderr",
          "text": [
            "      34/50      2.45G     0.8348     0.7292      1.293         31        640: 100%|██████████| 367/367 [01:57<00:00,  3.13it/s]\n",
            "                 Class     Images  Instances      Box(P          R      mAP50  mAP50-95): 100%|██████████| 11/11 [00:03<00:00,  3.40it/s]"
          ]
        },
        {
          "output_type": "stream",
          "name": "stdout",
          "text": [
            "                   all        328        606      0.863      0.809      0.893      0.677\n"
          ]
        },
        {
          "output_type": "stream",
          "name": "stderr",
          "text": [
            "\n"
          ]
        },
        {
          "output_type": "stream",
          "name": "stdout",
          "text": [
            "\n",
            "      Epoch    GPU_mem   box_loss   cls_loss   dfl_loss  Instances       Size\n"
          ]
        },
        {
          "output_type": "stream",
          "name": "stderr",
          "text": [
            "      35/50      2.52G     0.8251      0.707      1.284         31        640: 100%|██████████| 367/367 [01:58<00:00,  3.11it/s]\n",
            "                 Class     Images  Instances      Box(P          R      mAP50  mAP50-95): 100%|██████████| 11/11 [00:04<00:00,  2.63it/s]"
          ]
        },
        {
          "output_type": "stream",
          "name": "stdout",
          "text": [
            "                   all        328        606      0.888      0.776      0.883      0.674\n"
          ]
        },
        {
          "output_type": "stream",
          "name": "stderr",
          "text": [
            "\n"
          ]
        },
        {
          "output_type": "stream",
          "name": "stdout",
          "text": [
            "\n",
            "      Epoch    GPU_mem   box_loss   cls_loss   dfl_loss  Instances       Size\n"
          ]
        },
        {
          "output_type": "stream",
          "name": "stderr",
          "text": [
            "      36/50      2.53G       0.83     0.7262      1.289         28        640: 100%|██████████| 367/367 [01:56<00:00,  3.14it/s]\n",
            "                 Class     Images  Instances      Box(P          R      mAP50  mAP50-95): 100%|██████████| 11/11 [00:02<00:00,  4.35it/s]"
          ]
        },
        {
          "output_type": "stream",
          "name": "stdout",
          "text": [
            "                   all        328        606      0.872      0.794      0.888      0.684\n"
          ]
        },
        {
          "output_type": "stream",
          "name": "stderr",
          "text": [
            "\n"
          ]
        },
        {
          "output_type": "stream",
          "name": "stdout",
          "text": [
            "\n",
            "      Epoch    GPU_mem   box_loss   cls_loss   dfl_loss  Instances       Size\n"
          ]
        },
        {
          "output_type": "stream",
          "name": "stderr",
          "text": [
            "      37/50      2.47G     0.8097     0.6992      1.274         32        640: 100%|██████████| 367/367 [01:57<00:00,  3.13it/s]\n",
            "                 Class     Images  Instances      Box(P          R      mAP50  mAP50-95): 100%|██████████| 11/11 [00:02<00:00,  4.31it/s]"
          ]
        },
        {
          "output_type": "stream",
          "name": "stdout",
          "text": [
            "                   all        328        606      0.914      0.792        0.9      0.689\n"
          ]
        },
        {
          "output_type": "stream",
          "name": "stderr",
          "text": [
            "\n"
          ]
        },
        {
          "output_type": "stream",
          "name": "stdout",
          "text": [
            "\n",
            "      Epoch    GPU_mem   box_loss   cls_loss   dfl_loss  Instances       Size\n"
          ]
        },
        {
          "output_type": "stream",
          "name": "stderr",
          "text": [
            "      38/50       2.5G     0.7941     0.6874      1.266         41        640: 100%|██████████| 367/367 [01:59<00:00,  3.07it/s]\n",
            "                 Class     Images  Instances      Box(P          R      mAP50  mAP50-95): 100%|██████████| 11/11 [00:03<00:00,  3.12it/s]"
          ]
        },
        {
          "output_type": "stream",
          "name": "stdout",
          "text": [
            "                   all        328        606      0.856      0.802      0.889      0.683\n"
          ]
        },
        {
          "output_type": "stream",
          "name": "stderr",
          "text": [
            "\n"
          ]
        },
        {
          "output_type": "stream",
          "name": "stdout",
          "text": [
            "\n",
            "      Epoch    GPU_mem   box_loss   cls_loss   dfl_loss  Instances       Size\n"
          ]
        },
        {
          "output_type": "stream",
          "name": "stderr",
          "text": [
            "      39/50      2.54G     0.7946     0.6801      1.259         41        640: 100%|██████████| 367/367 [01:55<00:00,  3.17it/s]\n",
            "                 Class     Images  Instances      Box(P          R      mAP50  mAP50-95): 100%|██████████| 11/11 [00:03<00:00,  3.41it/s]"
          ]
        },
        {
          "output_type": "stream",
          "name": "stdout",
          "text": [
            "                   all        328        606      0.906      0.797      0.906      0.699\n"
          ]
        },
        {
          "output_type": "stream",
          "name": "stderr",
          "text": [
            "\n"
          ]
        },
        {
          "output_type": "stream",
          "name": "stdout",
          "text": [
            "\n",
            "      Epoch    GPU_mem   box_loss   cls_loss   dfl_loss  Instances       Size\n"
          ]
        },
        {
          "output_type": "stream",
          "name": "stderr",
          "text": [
            "      40/50      2.47G      0.791     0.6756      1.256         31        640: 100%|██████████| 367/367 [01:58<00:00,  3.11it/s]\n",
            "                 Class     Images  Instances      Box(P          R      mAP50  mAP50-95): 100%|██████████| 11/11 [00:03<00:00,  3.09it/s]"
          ]
        },
        {
          "output_type": "stream",
          "name": "stdout",
          "text": [
            "                   all        328        606      0.874      0.825        0.9      0.703\n"
          ]
        },
        {
          "output_type": "stream",
          "name": "stderr",
          "text": [
            "\n"
          ]
        },
        {
          "output_type": "stream",
          "name": "stdout",
          "text": [
            "Closing dataloader mosaic\n",
            "\u001b[34m\u001b[1malbumentations: \u001b[0mBlur(p=0.01, blur_limit=(3, 7)), MedianBlur(p=0.01, blur_limit=(3, 7)), ToGray(p=0.01, num_output_channels=3, method='weighted_average'), CLAHE(p=0.01, clip_limit=(1.0, 4.0), tile_grid_size=(8, 8))\n",
            "\n",
            "      Epoch    GPU_mem   box_loss   cls_loss   dfl_loss  Instances       Size\n"
          ]
        },
        {
          "output_type": "stream",
          "name": "stderr",
          "text": [
            "      41/50      2.46G     0.7406     0.5662      1.279         13        640: 100%|██████████| 367/367 [01:55<00:00,  3.17it/s]\n",
            "                 Class     Images  Instances      Box(P          R      mAP50  mAP50-95): 100%|██████████| 11/11 [00:02<00:00,  4.33it/s]"
          ]
        },
        {
          "output_type": "stream",
          "name": "stdout",
          "text": [
            "                   all        328        606       0.88      0.815      0.902      0.695\n"
          ]
        },
        {
          "output_type": "stream",
          "name": "stderr",
          "text": [
            "\n"
          ]
        },
        {
          "output_type": "stream",
          "name": "stdout",
          "text": [
            "\n",
            "      Epoch    GPU_mem   box_loss   cls_loss   dfl_loss  Instances       Size\n"
          ]
        },
        {
          "output_type": "stream",
          "name": "stderr",
          "text": [
            "      42/50      2.46G     0.7173     0.5355      1.251         15        640: 100%|██████████| 367/367 [01:53<00:00,  3.23it/s]\n",
            "                 Class     Images  Instances      Box(P          R      mAP50  mAP50-95): 100%|██████████| 11/11 [00:02<00:00,  4.38it/s]"
          ]
        },
        {
          "output_type": "stream",
          "name": "stdout",
          "text": [
            "                   all        328        606      0.862      0.842      0.903      0.695\n"
          ]
        },
        {
          "output_type": "stream",
          "name": "stderr",
          "text": [
            "\n"
          ]
        },
        {
          "output_type": "stream",
          "name": "stdout",
          "text": [
            "\n",
            "      Epoch    GPU_mem   box_loss   cls_loss   dfl_loss  Instances       Size\n"
          ]
        },
        {
          "output_type": "stream",
          "name": "stderr",
          "text": [
            "      43/50      2.46G     0.7082     0.5273      1.246         21        640: 100%|██████████| 367/367 [01:56<00:00,  3.14it/s]\n",
            "                 Class     Images  Instances      Box(P          R      mAP50  mAP50-95): 100%|██████████| 11/11 [00:02<00:00,  4.32it/s]"
          ]
        },
        {
          "output_type": "stream",
          "name": "stdout",
          "text": [
            "                   all        328        606      0.887      0.851       0.91      0.706\n"
          ]
        },
        {
          "output_type": "stream",
          "name": "stderr",
          "text": [
            "\n"
          ]
        },
        {
          "output_type": "stream",
          "name": "stdout",
          "text": [
            "\n",
            "      Epoch    GPU_mem   box_loss   cls_loss   dfl_loss  Instances       Size\n"
          ]
        },
        {
          "output_type": "stream",
          "name": "stderr",
          "text": [
            "      44/50      2.42G     0.6951     0.5136      1.231         14        640: 100%|██████████| 367/367 [01:54<00:00,  3.21it/s]\n",
            "                 Class     Images  Instances      Box(P          R      mAP50  mAP50-95): 100%|██████████| 11/11 [00:02<00:00,  4.77it/s]"
          ]
        },
        {
          "output_type": "stream",
          "name": "stdout",
          "text": [
            "                   all        328        606       0.88      0.835      0.904       0.71\n"
          ]
        },
        {
          "output_type": "stream",
          "name": "stderr",
          "text": [
            "\n"
          ]
        },
        {
          "output_type": "stream",
          "name": "stdout",
          "text": [
            "\n",
            "      Epoch    GPU_mem   box_loss   cls_loss   dfl_loss  Instances       Size\n"
          ]
        },
        {
          "output_type": "stream",
          "name": "stderr",
          "text": [
            "      45/50      2.42G     0.6863     0.5051      1.223         37        640:  73%|███████▎  | 267/367 [01:20<00:25,  3.99it/s]"
          ]
        }
      ],
      "source": [
        "from ultralytics import YOLO\n",
        "model = YOLO('/content/yolo11n.pt')\n",
        "train = model.train(data='/content/Fire-Extinguisher-Detection-3/data.yaml',epochs=50, imgsz=640,device=0)"
      ]
    },
    {
      "cell_type": "code",
      "execution_count": null,
      "metadata": {
        "colab": {
          "base_uri": "https://localhost:8080/"
        },
        "id": "niywFsq4BjzY",
        "outputId": "b085cfca-2d6f-4272-e430-00613cf20df0",
        "collapsed": true
      },
      "outputs": [
        {
          "name": "stdout",
          "output_type": "stream",
          "text": [
            "\n",
            "image 1/1 /content/f1.jpg: 128x224 1 extinguisher, 72.6ms\n",
            "Speed: 0.5ms preprocess, 72.6ms inference, 4.0ms postprocess per image at shape (1, 3, 128, 224)\n",
            "Results saved to \u001b[1mruns/detect/predict\u001b[0m\n",
            "Prediction Results:\n",
            "[ultralytics.engine.results.Results object with attributes:\n",
            "\n",
            "boxes: ultralytics.engine.results.Boxes object\n",
            "keypoints: None\n",
            "masks: None\n",
            "names: {0: 'extinguisher'}\n",
            "obb: None\n",
            "orig_img: array([[[199, 204, 203],\n",
            "        [199, 204, 203],\n",
            "        [199, 204, 203],\n",
            "        ...,\n",
            "        [240, 245, 244],\n",
            "        [241, 246, 245],\n",
            "        [241, 246, 245]],\n",
            "\n",
            "       [[199, 204, 203],\n",
            "        [199, 204, 203],\n",
            "        [199, 204, 203],\n",
            "        ...,\n",
            "        [240, 245, 244],\n",
            "        [241, 246, 245],\n",
            "        [241, 246, 245]],\n",
            "\n",
            "       [[199, 204, 203],\n",
            "        [199, 204, 203],\n",
            "        [199, 204, 203],\n",
            "        ...,\n",
            "        [240, 245, 244],\n",
            "        [241, 246, 245],\n",
            "        [241, 246, 245]],\n",
            "\n",
            "       ...,\n",
            "\n",
            "       [[188, 193, 191],\n",
            "        [187, 192, 190],\n",
            "        [187, 192, 190],\n",
            "        ...,\n",
            "        [233, 236, 241],\n",
            "        [233, 236, 241],\n",
            "        [233, 236, 241]],\n",
            "\n",
            "       [[188, 194, 189],\n",
            "        [187, 193, 188],\n",
            "        [187, 192, 190],\n",
            "        ...,\n",
            "        [233, 236, 241],\n",
            "        [233, 236, 241],\n",
            "        [233, 236, 241]],\n",
            "\n",
            "       [[188, 194, 189],\n",
            "        [187, 193, 188],\n",
            "        [187, 192, 190],\n",
            "        ...,\n",
            "        [233, 236, 241],\n",
            "        [233, 236, 241],\n",
            "        [233, 236, 241]]], dtype=uint8)\n",
            "orig_shape: (163, 309)\n",
            "path: '/content/f1.jpg'\n",
            "probs: None\n",
            "save_dir: 'runs/detect/predict'\n",
            "speed: {'preprocess': 0.5495548248291016, 'inference': 72.62635231018066, 'postprocess': 4.012107849121094}]\n"
          ]
        }
      ],
      "source": [
        "bt = YOLO('/content/runs/detect/train2/weights/best.pt')\n",
        "image_path = \"/content/f1.jpg\"\n",
        "results = bt.predict(source=image_path, imgsz=224, device=0, save=True)\n",
        "print(\"Prediction Results:\")\n",
        "print(results)"
      ]
    },
    {
      "cell_type": "code",
      "execution_count": null,
      "metadata": {
        "colab": {
          "base_uri": "https://localhost:8080/"
        },
        "id": "X_7LyKIMCeTp",
        "outputId": "9aa270e1-d4d2-4201-b324-45f1b82bcf7a"
      },
      "outputs": [
        {
          "name": "stdout",
          "output_type": "stream",
          "text": [
            "\n",
            "image 1/1 /content/f2.jpg: 128x224 1 extinguisher, 24.7ms\n",
            "Speed: 1.2ms preprocess, 24.7ms inference, 2.3ms postprocess per image at shape (1, 3, 128, 224)\n",
            "Results saved to \u001b[1mruns/detect/predict\u001b[0m\n"
          ]
        }
      ],
      "source": [
        "results = bt.predict(source='/content/f2.jpg', imgsz=224, device=0, save=True)"
      ]
    },
    {
      "cell_type": "code",
      "execution_count": null,
      "metadata": {
        "colab": {
          "base_uri": "https://localhost:8080/"
        },
        "id": "CfTkFEjPClfx",
        "outputId": "60cf2ccc-a667-49ec-8f67-bd2af1cf9d5f",
        "collapsed": true
      },
      "outputs": [
        {
          "name": "stdout",
          "output_type": "stream",
          "text": [
            "\n",
            "\n",
            "WARNING ⚠️ inference results will accumulate in RAM unless `stream=True` is passed, causing potential out-of-memory\n",
            "errors for large sources or long-running streams and videos. See https://docs.ultralytics.com/modes/predict/ for help.\n",
            "\n",
            "Example:\n",
            "    results = model(source=..., stream=True)  # generator of Results objects\n",
            "    for r in results:\n",
            "        boxes = r.boxes  # Boxes object for bbox outputs\n",
            "        masks = r.masks  # Masks object for segment masks outputs\n",
            "        probs = r.probs  # Class probabilities for classification outputs\n",
            "\n",
            "video 1/1 (frame 1/444) /content/fire extinguish.mp4: 224x128 (no detections), 43.8ms\n",
            "video 1/1 (frame 2/444) /content/fire extinguish.mp4: 224x128 (no detections), 8.5ms\n",
            "video 1/1 (frame 3/444) /content/fire extinguish.mp4: 224x128 (no detections), 8.4ms\n",
            "video 1/1 (frame 4/444) /content/fire extinguish.mp4: 224x128 (no detections), 8.4ms\n",
            "video 1/1 (frame 5/444) /content/fire extinguish.mp4: 224x128 1 extinguisher, 8.1ms\n",
            "video 1/1 (frame 6/444) /content/fire extinguish.mp4: 224x128 (no detections), 8.3ms\n",
            "video 1/1 (frame 7/444) /content/fire extinguish.mp4: 224x128 1 extinguisher, 8.0ms\n",
            "video 1/1 (frame 8/444) /content/fire extinguish.mp4: 224x128 2 extinguishers, 8.1ms\n",
            "video 1/1 (frame 9/444) /content/fire extinguish.mp4: 224x128 1 extinguisher, 8.2ms\n",
            "video 1/1 (frame 10/444) /content/fire extinguish.mp4: 224x128 1 extinguisher, 8.2ms\n",
            "video 1/1 (frame 11/444) /content/fire extinguish.mp4: 224x128 2 extinguishers, 8.0ms\n",
            "video 1/1 (frame 12/444) /content/fire extinguish.mp4: 224x128 2 extinguishers, 7.9ms\n",
            "video 1/1 (frame 13/444) /content/fire extinguish.mp4: 224x128 2 extinguishers, 8.2ms\n",
            "video 1/1 (frame 14/444) /content/fire extinguish.mp4: 224x128 (no detections), 7.9ms\n",
            "video 1/1 (frame 15/444) /content/fire extinguish.mp4: 224x128 2 extinguishers, 9.6ms\n",
            "video 1/1 (frame 16/444) /content/fire extinguish.mp4: 224x128 5 extinguishers, 7.9ms\n",
            "video 1/1 (frame 17/444) /content/fire extinguish.mp4: 224x128 4 extinguishers, 8.4ms\n",
            "video 1/1 (frame 18/444) /content/fire extinguish.mp4: 224x128 4 extinguishers, 7.9ms\n",
            "video 1/1 (frame 19/444) /content/fire extinguish.mp4: 224x128 3 extinguishers, 8.3ms\n",
            "video 1/1 (frame 20/444) /content/fire extinguish.mp4: 224x128 3 extinguishers, 8.0ms\n",
            "video 1/1 (frame 21/444) /content/fire extinguish.mp4: 224x128 3 extinguishers, 9.2ms\n",
            "video 1/1 (frame 22/444) /content/fire extinguish.mp4: 224x128 3 extinguishers, 8.4ms\n",
            "video 1/1 (frame 23/444) /content/fire extinguish.mp4: 224x128 4 extinguishers, 8.6ms\n",
            "video 1/1 (frame 24/444) /content/fire extinguish.mp4: 224x128 4 extinguishers, 8.4ms\n",
            "video 1/1 (frame 25/444) /content/fire extinguish.mp4: 224x128 4 extinguishers, 8.6ms\n",
            "video 1/1 (frame 26/444) /content/fire extinguish.mp4: 224x128 4 extinguishers, 8.2ms\n",
            "video 1/1 (frame 27/444) /content/fire extinguish.mp4: 224x128 3 extinguishers, 9.7ms\n",
            "video 1/1 (frame 28/444) /content/fire extinguish.mp4: 224x128 3 extinguishers, 8.4ms\n",
            "video 1/1 (frame 29/444) /content/fire extinguish.mp4: 224x128 3 extinguishers, 10.2ms\n",
            "video 1/1 (frame 30/444) /content/fire extinguish.mp4: 224x128 5 extinguishers, 9.1ms\n",
            "video 1/1 (frame 31/444) /content/fire extinguish.mp4: 224x128 5 extinguishers, 12.4ms\n",
            "video 1/1 (frame 32/444) /content/fire extinguish.mp4: 224x128 5 extinguishers, 12.3ms\n",
            "video 1/1 (frame 33/444) /content/fire extinguish.mp4: 224x128 5 extinguishers, 12.3ms\n",
            "video 1/1 (frame 34/444) /content/fire extinguish.mp4: 224x128 5 extinguishers, 12.5ms\n",
            "video 1/1 (frame 35/444) /content/fire extinguish.mp4: 224x128 5 extinguishers, 12.0ms\n",
            "video 1/1 (frame 36/444) /content/fire extinguish.mp4: 224x128 5 extinguishers, 12.3ms\n",
            "video 1/1 (frame 37/444) /content/fire extinguish.mp4: 224x128 5 extinguishers, 9.2ms\n",
            "video 1/1 (frame 38/444) /content/fire extinguish.mp4: 224x128 4 extinguishers, 8.1ms\n",
            "video 1/1 (frame 39/444) /content/fire extinguish.mp4: 224x128 5 extinguishers, 9.7ms\n",
            "video 1/1 (frame 40/444) /content/fire extinguish.mp4: 224x128 4 extinguishers, 9.6ms\n",
            "video 1/1 (frame 41/444) /content/fire extinguish.mp4: 224x128 4 extinguishers, 9.9ms\n",
            "video 1/1 (frame 42/444) /content/fire extinguish.mp4: 224x128 4 extinguishers, 8.2ms\n",
            "video 1/1 (frame 43/444) /content/fire extinguish.mp4: 224x128 4 extinguishers, 8.2ms\n",
            "video 1/1 (frame 44/444) /content/fire extinguish.mp4: 224x128 3 extinguishers, 7.9ms\n",
            "video 1/1 (frame 45/444) /content/fire extinguish.mp4: 224x128 4 extinguishers, 9.2ms\n",
            "video 1/1 (frame 46/444) /content/fire extinguish.mp4: 224x128 4 extinguishers, 8.3ms\n",
            "video 1/1 (frame 47/444) /content/fire extinguish.mp4: 224x128 5 extinguishers, 15.5ms\n",
            "video 1/1 (frame 48/444) /content/fire extinguish.mp4: 224x128 3 extinguishers, 8.2ms\n",
            "video 1/1 (frame 49/444) /content/fire extinguish.mp4: 224x128 3 extinguishers, 8.4ms\n",
            "video 1/1 (frame 50/444) /content/fire extinguish.mp4: 224x128 4 extinguishers, 8.3ms\n",
            "video 1/1 (frame 51/444) /content/fire extinguish.mp4: 224x128 5 extinguishers, 8.1ms\n",
            "video 1/1 (frame 52/444) /content/fire extinguish.mp4: 224x128 3 extinguishers, 8.0ms\n",
            "video 1/1 (frame 53/444) /content/fire extinguish.mp4: 224x128 3 extinguishers, 9.1ms\n",
            "video 1/1 (frame 54/444) /content/fire extinguish.mp4: 224x128 4 extinguishers, 9.3ms\n",
            "video 1/1 (frame 55/444) /content/fire extinguish.mp4: 224x128 5 extinguishers, 8.1ms\n",
            "video 1/1 (frame 56/444) /content/fire extinguish.mp4: 224x128 5 extinguishers, 8.3ms\n",
            "video 1/1 (frame 57/444) /content/fire extinguish.mp4: 224x128 5 extinguishers, 9.3ms\n",
            "video 1/1 (frame 58/444) /content/fire extinguish.mp4: 224x128 3 extinguishers, 8.4ms\n",
            "video 1/1 (frame 59/444) /content/fire extinguish.mp4: 224x128 1 extinguisher, 8.2ms\n",
            "video 1/1 (frame 60/444) /content/fire extinguish.mp4: 224x128 2 extinguishers, 8.7ms\n",
            "video 1/1 (frame 61/444) /content/fire extinguish.mp4: 224x128 4 extinguishers, 9.4ms\n",
            "video 1/1 (frame 62/444) /content/fire extinguish.mp4: 224x128 6 extinguishers, 8.3ms\n",
            "video 1/1 (frame 63/444) /content/fire extinguish.mp4: 224x128 5 extinguishers, 8.2ms\n",
            "video 1/1 (frame 64/444) /content/fire extinguish.mp4: 224x128 5 extinguishers, 8.4ms\n",
            "video 1/1 (frame 65/444) /content/fire extinguish.mp4: 224x128 3 extinguishers, 9.6ms\n",
            "video 1/1 (frame 66/444) /content/fire extinguish.mp4: 224x128 3 extinguishers, 9.8ms\n",
            "video 1/1 (frame 67/444) /content/fire extinguish.mp4: 224x128 3 extinguishers, 8.8ms\n",
            "video 1/1 (frame 68/444) /content/fire extinguish.mp4: 224x128 3 extinguishers, 8.3ms\n",
            "video 1/1 (frame 69/444) /content/fire extinguish.mp4: 224x128 5 extinguishers, 8.9ms\n",
            "video 1/1 (frame 70/444) /content/fire extinguish.mp4: 224x128 3 extinguishers, 8.2ms\n",
            "video 1/1 (frame 71/444) /content/fire extinguish.mp4: 224x128 2 extinguishers, 8.5ms\n",
            "video 1/1 (frame 72/444) /content/fire extinguish.mp4: 224x128 1 extinguisher, 8.3ms\n",
            "video 1/1 (frame 73/444) /content/fire extinguish.mp4: 224x128 2 extinguishers, 9.1ms\n",
            "video 1/1 (frame 74/444) /content/fire extinguish.mp4: 224x128 1 extinguisher, 8.3ms\n",
            "video 1/1 (frame 75/444) /content/fire extinguish.mp4: 224x128 2 extinguishers, 7.8ms\n",
            "video 1/1 (frame 76/444) /content/fire extinguish.mp4: 224x128 2 extinguishers, 8.0ms\n",
            "video 1/1 (frame 77/444) /content/fire extinguish.mp4: 224x128 2 extinguishers, 10.5ms\n",
            "video 1/1 (frame 78/444) /content/fire extinguish.mp4: 224x128 4 extinguishers, 8.1ms\n",
            "video 1/1 (frame 79/444) /content/fire extinguish.mp4: 224x128 4 extinguishers, 11.1ms\n",
            "video 1/1 (frame 80/444) /content/fire extinguish.mp4: 224x128 6 extinguishers, 8.9ms\n",
            "video 1/1 (frame 81/444) /content/fire extinguish.mp4: 224x128 5 extinguishers, 13.7ms\n",
            "video 1/1 (frame 82/444) /content/fire extinguish.mp4: 224x128 5 extinguishers, 12.9ms\n",
            "video 1/1 (frame 83/444) /content/fire extinguish.mp4: 224x128 5 extinguishers, 12.2ms\n",
            "video 1/1 (frame 84/444) /content/fire extinguish.mp4: 224x128 3 extinguishers, 11.6ms\n",
            "video 1/1 (frame 85/444) /content/fire extinguish.mp4: 224x128 4 extinguishers, 11.6ms\n",
            "video 1/1 (frame 86/444) /content/fire extinguish.mp4: 224x128 3 extinguishers, 12.7ms\n",
            "video 1/1 (frame 87/444) /content/fire extinguish.mp4: 224x128 4 extinguishers, 11.6ms\n",
            "video 1/1 (frame 88/444) /content/fire extinguish.mp4: 224x128 3 extinguishers, 11.8ms\n",
            "video 1/1 (frame 89/444) /content/fire extinguish.mp4: 224x128 3 extinguishers, 9.6ms\n",
            "video 1/1 (frame 90/444) /content/fire extinguish.mp4: 224x128 3 extinguishers, 9.2ms\n",
            "video 1/1 (frame 91/444) /content/fire extinguish.mp4: 224x128 2 extinguishers, 8.2ms\n",
            "video 1/1 (frame 92/444) /content/fire extinguish.mp4: 224x128 2 extinguishers, 8.2ms\n",
            "video 1/1 (frame 93/444) /content/fire extinguish.mp4: 224x128 2 extinguishers, 9.1ms\n",
            "video 1/1 (frame 94/444) /content/fire extinguish.mp4: 224x128 3 extinguishers, 8.3ms\n",
            "video 1/1 (frame 95/444) /content/fire extinguish.mp4: 224x128 2 extinguishers, 8.9ms\n",
            "video 1/1 (frame 96/444) /content/fire extinguish.mp4: 224x128 2 extinguishers, 8.0ms\n",
            "video 1/1 (frame 97/444) /content/fire extinguish.mp4: 224x128 1 extinguisher, 9.5ms\n",
            "video 1/1 (frame 98/444) /content/fire extinguish.mp4: 224x128 2 extinguishers, 13.8ms\n",
            "video 1/1 (frame 99/444) /content/fire extinguish.mp4: 224x128 2 extinguishers, 8.3ms\n",
            "video 1/1 (frame 100/444) /content/fire extinguish.mp4: 224x128 4 extinguishers, 8.1ms\n",
            "video 1/1 (frame 101/444) /content/fire extinguish.mp4: 224x128 3 extinguishers, 8.0ms\n",
            "video 1/1 (frame 102/444) /content/fire extinguish.mp4: 224x128 3 extinguishers, 8.6ms\n",
            "video 1/1 (frame 103/444) /content/fire extinguish.mp4: 224x128 3 extinguishers, 9.1ms\n",
            "video 1/1 (frame 104/444) /content/fire extinguish.mp4: 224x128 3 extinguishers, 10.8ms\n",
            "video 1/1 (frame 105/444) /content/fire extinguish.mp4: 224x128 3 extinguishers, 8.3ms\n",
            "video 1/1 (frame 106/444) /content/fire extinguish.mp4: 224x128 2 extinguishers, 8.2ms\n",
            "video 1/1 (frame 107/444) /content/fire extinguish.mp4: 224x128 3 extinguishers, 8.0ms\n",
            "video 1/1 (frame 108/444) /content/fire extinguish.mp4: 224x128 2 extinguishers, 9.0ms\n",
            "video 1/1 (frame 109/444) /content/fire extinguish.mp4: 224x128 3 extinguishers, 10.2ms\n",
            "video 1/1 (frame 110/444) /content/fire extinguish.mp4: 224x128 3 extinguishers, 8.2ms\n",
            "video 1/1 (frame 111/444) /content/fire extinguish.mp4: 224x128 2 extinguishers, 9.0ms\n",
            "video 1/1 (frame 112/444) /content/fire extinguish.mp4: 224x128 1 extinguisher, 8.9ms\n",
            "video 1/1 (frame 113/444) /content/fire extinguish.mp4: 224x128 1 extinguisher, 9.3ms\n",
            "video 1/1 (frame 114/444) /content/fire extinguish.mp4: 224x128 2 extinguishers, 10.3ms\n",
            "video 1/1 (frame 115/444) /content/fire extinguish.mp4: 224x128 1 extinguisher, 9.1ms\n",
            "video 1/1 (frame 116/444) /content/fire extinguish.mp4: 224x128 3 extinguishers, 10.8ms\n",
            "video 1/1 (frame 117/444) /content/fire extinguish.mp4: 224x128 4 extinguishers, 9.2ms\n",
            "video 1/1 (frame 118/444) /content/fire extinguish.mp4: 224x128 2 extinguishers, 9.2ms\n",
            "video 1/1 (frame 119/444) /content/fire extinguish.mp4: 224x128 3 extinguishers, 9.1ms\n",
            "video 1/1 (frame 120/444) /content/fire extinguish.mp4: 224x128 3 extinguishers, 8.8ms\n",
            "video 1/1 (frame 121/444) /content/fire extinguish.mp4: 224x128 4 extinguishers, 10.8ms\n",
            "video 1/1 (frame 122/444) /content/fire extinguish.mp4: 224x128 2 extinguishers, 10.0ms\n",
            "video 1/1 (frame 123/444) /content/fire extinguish.mp4: 224x128 2 extinguishers, 9.7ms\n",
            "video 1/1 (frame 124/444) /content/fire extinguish.mp4: 224x128 2 extinguishers, 10.8ms\n",
            "video 1/1 (frame 125/444) /content/fire extinguish.mp4: 224x128 3 extinguishers, 10.1ms\n",
            "video 1/1 (frame 126/444) /content/fire extinguish.mp4: 224x128 4 extinguishers, 8.0ms\n",
            "video 1/1 (frame 127/444) /content/fire extinguish.mp4: 224x128 2 extinguishers, 8.9ms\n",
            "video 1/1 (frame 128/444) /content/fire extinguish.mp4: 224x128 2 extinguishers, 9.3ms\n",
            "video 1/1 (frame 129/444) /content/fire extinguish.mp4: 224x128 3 extinguishers, 8.1ms\n",
            "video 1/1 (frame 130/444) /content/fire extinguish.mp4: 224x128 4 extinguishers, 10.7ms\n",
            "video 1/1 (frame 131/444) /content/fire extinguish.mp4: 224x128 5 extinguishers, 13.7ms\n",
            "video 1/1 (frame 132/444) /content/fire extinguish.mp4: 224x128 3 extinguishers, 12.9ms\n",
            "video 1/1 (frame 133/444) /content/fire extinguish.mp4: 224x128 3 extinguishers, 12.1ms\n",
            "video 1/1 (frame 134/444) /content/fire extinguish.mp4: 224x128 4 extinguishers, 13.3ms\n",
            "video 1/1 (frame 135/444) /content/fire extinguish.mp4: 224x128 2 extinguishers, 11.6ms\n",
            "video 1/1 (frame 136/444) /content/fire extinguish.mp4: 224x128 2 extinguishers, 14.4ms\n",
            "video 1/1 (frame 137/444) /content/fire extinguish.mp4: 224x128 3 extinguishers, 12.0ms\n",
            "video 1/1 (frame 138/444) /content/fire extinguish.mp4: 224x128 2 extinguishers, 12.9ms\n",
            "video 1/1 (frame 139/444) /content/fire extinguish.mp4: 224x128 2 extinguishers, 10.1ms\n",
            "video 1/1 (frame 140/444) /content/fire extinguish.mp4: 224x128 (no detections), 8.2ms\n",
            "video 1/1 (frame 141/444) /content/fire extinguish.mp4: 224x128 (no detections), 10.3ms\n",
            "video 1/1 (frame 142/444) /content/fire extinguish.mp4: 224x128 1 extinguisher, 8.3ms\n",
            "video 1/1 (frame 143/444) /content/fire extinguish.mp4: 224x128 1 extinguisher, 10.0ms\n",
            "video 1/1 (frame 144/444) /content/fire extinguish.mp4: 224x128 3 extinguishers, 8.0ms\n",
            "video 1/1 (frame 145/444) /content/fire extinguish.mp4: 224x128 3 extinguishers, 10.2ms\n",
            "video 1/1 (frame 146/444) /content/fire extinguish.mp4: 224x128 2 extinguishers, 7.9ms\n",
            "video 1/1 (frame 147/444) /content/fire extinguish.mp4: 224x128 2 extinguishers, 10.3ms\n",
            "video 1/1 (frame 148/444) /content/fire extinguish.mp4: 224x128 3 extinguishers, 8.1ms\n",
            "video 1/1 (frame 149/444) /content/fire extinguish.mp4: 224x128 2 extinguishers, 15.3ms\n",
            "video 1/1 (frame 150/444) /content/fire extinguish.mp4: 224x128 2 extinguishers, 9.1ms\n",
            "video 1/1 (frame 151/444) /content/fire extinguish.mp4: 224x128 2 extinguishers, 9.3ms\n",
            "video 1/1 (frame 152/444) /content/fire extinguish.mp4: 224x128 1 extinguisher, 8.5ms\n",
            "video 1/1 (frame 153/444) /content/fire extinguish.mp4: 224x128 2 extinguishers, 9.7ms\n",
            "video 1/1 (frame 154/444) /content/fire extinguish.mp4: 224x128 2 extinguishers, 9.3ms\n",
            "video 1/1 (frame 155/444) /content/fire extinguish.mp4: 224x128 2 extinguishers, 10.4ms\n",
            "video 1/1 (frame 156/444) /content/fire extinguish.mp4: 224x128 2 extinguishers, 9.7ms\n",
            "video 1/1 (frame 157/444) /content/fire extinguish.mp4: 224x128 2 extinguishers, 10.2ms\n",
            "video 1/1 (frame 158/444) /content/fire extinguish.mp4: 224x128 1 extinguisher, 8.1ms\n",
            "video 1/1 (frame 159/444) /content/fire extinguish.mp4: 224x128 1 extinguisher, 8.1ms\n",
            "video 1/1 (frame 160/444) /content/fire extinguish.mp4: 224x128 1 extinguisher, 9.5ms\n",
            "video 1/1 (frame 161/444) /content/fire extinguish.mp4: 224x128 2 extinguishers, 8.1ms\n",
            "video 1/1 (frame 162/444) /content/fire extinguish.mp4: 224x128 2 extinguishers, 9.7ms\n",
            "video 1/1 (frame 163/444) /content/fire extinguish.mp4: 224x128 2 extinguishers, 8.3ms\n",
            "video 1/1 (frame 164/444) /content/fire extinguish.mp4: 224x128 1 extinguisher, 8.6ms\n",
            "video 1/1 (frame 165/444) /content/fire extinguish.mp4: 224x128 1 extinguisher, 8.6ms\n",
            "video 1/1 (frame 166/444) /content/fire extinguish.mp4: 224x128 2 extinguishers, 11.2ms\n",
            "video 1/1 (frame 167/444) /content/fire extinguish.mp4: 224x128 1 extinguisher, 8.4ms\n",
            "video 1/1 (frame 168/444) /content/fire extinguish.mp4: 224x128 2 extinguishers, 9.4ms\n",
            "video 1/1 (frame 169/444) /content/fire extinguish.mp4: 224x128 1 extinguisher, 8.7ms\n",
            "video 1/1 (frame 170/444) /content/fire extinguish.mp4: 224x128 1 extinguisher, 8.3ms\n",
            "video 1/1 (frame 171/444) /content/fire extinguish.mp4: 224x128 1 extinguisher, 8.2ms\n",
            "video 1/1 (frame 172/444) /content/fire extinguish.mp4: 224x128 1 extinguisher, 8.0ms\n",
            "video 1/1 (frame 173/444) /content/fire extinguish.mp4: 224x128 (no detections), 9.8ms\n",
            "video 1/1 (frame 174/444) /content/fire extinguish.mp4: 224x128 (no detections), 8.5ms\n",
            "video 1/1 (frame 175/444) /content/fire extinguish.mp4: 224x128 (no detections), 9.6ms\n",
            "video 1/1 (frame 176/444) /content/fire extinguish.mp4: 224x128 (no detections), 9.3ms\n",
            "video 1/1 (frame 177/444) /content/fire extinguish.mp4: 224x128 (no detections), 10.2ms\n",
            "video 1/1 (frame 178/444) /content/fire extinguish.mp4: 224x128 1 extinguisher, 8.5ms\n",
            "video 1/1 (frame 179/444) /content/fire extinguish.mp4: 224x128 2 extinguishers, 9.5ms\n",
            "video 1/1 (frame 180/444) /content/fire extinguish.mp4: 224x128 2 extinguishers, 11.5ms\n",
            "video 1/1 (frame 181/444) /content/fire extinguish.mp4: 224x128 2 extinguishers, 12.9ms\n",
            "video 1/1 (frame 182/444) /content/fire extinguish.mp4: 224x128 2 extinguishers, 14.3ms\n",
            "video 1/1 (frame 183/444) /content/fire extinguish.mp4: 224x128 2 extinguishers, 12.6ms\n",
            "video 1/1 (frame 184/444) /content/fire extinguish.mp4: 224x128 (no detections), 12.4ms\n",
            "video 1/1 (frame 185/444) /content/fire extinguish.mp4: 224x128 1 extinguisher, 11.9ms\n",
            "video 1/1 (frame 186/444) /content/fire extinguish.mp4: 224x128 1 extinguisher, 13.4ms\n",
            "video 1/1 (frame 187/444) /content/fire extinguish.mp4: 224x128 1 extinguisher, 12.2ms\n",
            "video 1/1 (frame 188/444) /content/fire extinguish.mp4: 224x128 (no detections), 8.3ms\n",
            "video 1/1 (frame 189/444) /content/fire extinguish.mp4: 224x128 (no detections), 8.7ms\n",
            "video 1/1 (frame 190/444) /content/fire extinguish.mp4: 224x128 (no detections), 9.0ms\n",
            "video 1/1 (frame 191/444) /content/fire extinguish.mp4: 224x128 (no detections), 9.3ms\n",
            "video 1/1 (frame 192/444) /content/fire extinguish.mp4: 224x128 (no detections), 10.3ms\n",
            "video 1/1 (frame 193/444) /content/fire extinguish.mp4: 224x128 (no detections), 13.4ms\n",
            "video 1/1 (frame 194/444) /content/fire extinguish.mp4: 224x128 (no detections), 12.9ms\n",
            "video 1/1 (frame 195/444) /content/fire extinguish.mp4: 224x128 1 extinguisher, 13.6ms\n",
            "video 1/1 (frame 196/444) /content/fire extinguish.mp4: 224x128 1 extinguisher, 14.7ms\n",
            "video 1/1 (frame 197/444) /content/fire extinguish.mp4: 224x128 (no detections), 8.8ms\n",
            "video 1/1 (frame 198/444) /content/fire extinguish.mp4: 224x128 (no detections), 19.6ms\n",
            "video 1/1 (frame 199/444) /content/fire extinguish.mp4: 224x128 (no detections), 9.0ms\n",
            "video 1/1 (frame 200/444) /content/fire extinguish.mp4: 224x128 1 extinguisher, 8.0ms\n",
            "video 1/1 (frame 201/444) /content/fire extinguish.mp4: 224x128 1 extinguisher, 9.6ms\n",
            "video 1/1 (frame 202/444) /content/fire extinguish.mp4: 224x128 1 extinguisher, 8.6ms\n",
            "video 1/1 (frame 203/444) /content/fire extinguish.mp4: 224x128 1 extinguisher, 9.2ms\n",
            "video 1/1 (frame 204/444) /content/fire extinguish.mp4: 224x128 1 extinguisher, 9.0ms\n",
            "video 1/1 (frame 205/444) /content/fire extinguish.mp4: 224x128 1 extinguisher, 8.3ms\n",
            "video 1/1 (frame 206/444) /content/fire extinguish.mp4: 224x128 (no detections), 8.0ms\n",
            "video 1/1 (frame 207/444) /content/fire extinguish.mp4: 224x128 (no detections), 8.2ms\n",
            "video 1/1 (frame 208/444) /content/fire extinguish.mp4: 224x128 (no detections), 9.1ms\n",
            "video 1/1 (frame 209/444) /content/fire extinguish.mp4: 224x128 (no detections), 8.6ms\n",
            "video 1/1 (frame 210/444) /content/fire extinguish.mp4: 224x128 (no detections), 8.1ms\n",
            "video 1/1 (frame 211/444) /content/fire extinguish.mp4: 224x128 (no detections), 9.1ms\n",
            "video 1/1 (frame 212/444) /content/fire extinguish.mp4: 224x128 (no detections), 8.4ms\n",
            "video 1/1 (frame 213/444) /content/fire extinguish.mp4: 224x128 1 extinguisher, 8.2ms\n",
            "video 1/1 (frame 214/444) /content/fire extinguish.mp4: 224x128 1 extinguisher, 8.4ms\n",
            "video 1/1 (frame 215/444) /content/fire extinguish.mp4: 224x128 (no detections), 9.7ms\n",
            "video 1/1 (frame 216/444) /content/fire extinguish.mp4: 224x128 1 extinguisher, 8.1ms\n",
            "video 1/1 (frame 217/444) /content/fire extinguish.mp4: 224x128 1 extinguisher, 9.6ms\n",
            "video 1/1 (frame 218/444) /content/fire extinguish.mp4: 224x128 2 extinguishers, 8.2ms\n",
            "video 1/1 (frame 219/444) /content/fire extinguish.mp4: 224x128 1 extinguisher, 9.5ms\n",
            "video 1/1 (frame 220/444) /content/fire extinguish.mp4: 224x128 1 extinguisher, 10.2ms\n",
            "video 1/1 (frame 221/444) /content/fire extinguish.mp4: 224x128 1 extinguisher, 8.3ms\n",
            "video 1/1 (frame 222/444) /content/fire extinguish.mp4: 224x128 1 extinguisher, 7.8ms\n",
            "video 1/1 (frame 223/444) /content/fire extinguish.mp4: 224x128 1 extinguisher, 9.6ms\n",
            "video 1/1 (frame 224/444) /content/fire extinguish.mp4: 224x128 1 extinguisher, 8.4ms\n",
            "video 1/1 (frame 225/444) /content/fire extinguish.mp4: 224x128 1 extinguisher, 9.2ms\n",
            "video 1/1 (frame 226/444) /content/fire extinguish.mp4: 224x128 1 extinguisher, 10.9ms\n",
            "video 1/1 (frame 227/444) /content/fire extinguish.mp4: 224x128 1 extinguisher, 7.8ms\n",
            "video 1/1 (frame 228/444) /content/fire extinguish.mp4: 224x128 (no detections), 8.5ms\n",
            "video 1/1 (frame 229/444) /content/fire extinguish.mp4: 224x128 1 extinguisher, 10.6ms\n",
            "video 1/1 (frame 230/444) /content/fire extinguish.mp4: 224x128 (no detections), 12.1ms\n",
            "video 1/1 (frame 231/444) /content/fire extinguish.mp4: 224x128 (no detections), 12.6ms\n",
            "video 1/1 (frame 232/444) /content/fire extinguish.mp4: 224x128 (no detections), 11.7ms\n",
            "video 1/1 (frame 233/444) /content/fire extinguish.mp4: 224x128 (no detections), 12.0ms\n",
            "video 1/1 (frame 234/444) /content/fire extinguish.mp4: 224x128 (no detections), 11.6ms\n",
            "video 1/1 (frame 235/444) /content/fire extinguish.mp4: 224x128 (no detections), 12.1ms\n",
            "video 1/1 (frame 236/444) /content/fire extinguish.mp4: 224x128 (no detections), 12.7ms\n",
            "video 1/1 (frame 237/444) /content/fire extinguish.mp4: 224x128 (no detections), 11.8ms\n",
            "video 1/1 (frame 238/444) /content/fire extinguish.mp4: 224x128 (no detections), 10.0ms\n",
            "video 1/1 (frame 239/444) /content/fire extinguish.mp4: 224x128 2 extinguishers, 9.7ms\n",
            "video 1/1 (frame 240/444) /content/fire extinguish.mp4: 224x128 (no detections), 8.3ms\n",
            "video 1/1 (frame 241/444) /content/fire extinguish.mp4: 224x128 (no detections), 8.7ms\n",
            "video 1/1 (frame 242/444) /content/fire extinguish.mp4: 224x128 1 extinguisher, 7.8ms\n",
            "video 1/1 (frame 243/444) /content/fire extinguish.mp4: 224x128 1 extinguisher, 9.3ms\n",
            "video 1/1 (frame 244/444) /content/fire extinguish.mp4: 224x128 1 extinguisher, 8.0ms\n",
            "video 1/1 (frame 245/444) /content/fire extinguish.mp4: 224x128 1 extinguisher, 9.4ms\n",
            "video 1/1 (frame 246/444) /content/fire extinguish.mp4: 224x128 1 extinguisher, 8.3ms\n",
            "video 1/1 (frame 247/444) /content/fire extinguish.mp4: 224x128 1 extinguisher, 9.4ms\n",
            "video 1/1 (frame 248/444) /content/fire extinguish.mp4: 224x128 1 extinguisher, 7.9ms\n",
            "video 1/1 (frame 249/444) /content/fire extinguish.mp4: 224x128 1 extinguisher, 7.9ms\n",
            "video 1/1 (frame 250/444) /content/fire extinguish.mp4: 224x128 2 extinguishers, 8.0ms\n",
            "video 1/1 (frame 251/444) /content/fire extinguish.mp4: 224x128 (no detections), 11.2ms\n",
            "video 1/1 (frame 252/444) /content/fire extinguish.mp4: 224x128 (no detections), 13.4ms\n",
            "video 1/1 (frame 253/444) /content/fire extinguish.mp4: 224x128 1 extinguisher, 11.8ms\n",
            "video 1/1 (frame 254/444) /content/fire extinguish.mp4: 224x128 1 extinguisher, 8.8ms\n",
            "video 1/1 (frame 255/444) /content/fire extinguish.mp4: 224x128 (no detections), 8.9ms\n",
            "video 1/1 (frame 256/444) /content/fire extinguish.mp4: 224x128 (no detections), 8.1ms\n",
            "video 1/1 (frame 257/444) /content/fire extinguish.mp4: 224x128 1 extinguisher, 8.2ms\n",
            "video 1/1 (frame 258/444) /content/fire extinguish.mp4: 224x128 (no detections), 8.4ms\n",
            "video 1/1 (frame 259/444) /content/fire extinguish.mp4: 224x128 1 extinguisher, 9.8ms\n",
            "video 1/1 (frame 260/444) /content/fire extinguish.mp4: 224x128 1 extinguisher, 8.2ms\n",
            "video 1/1 (frame 261/444) /content/fire extinguish.mp4: 224x128 1 extinguisher, 8.3ms\n",
            "video 1/1 (frame 262/444) /content/fire extinguish.mp4: 224x128 (no detections), 7.9ms\n",
            "video 1/1 (frame 263/444) /content/fire extinguish.mp4: 224x128 (no detections), 9.6ms\n",
            "video 1/1 (frame 264/444) /content/fire extinguish.mp4: 224x128 (no detections), 8.3ms\n",
            "video 1/1 (frame 265/444) /content/fire extinguish.mp4: 224x128 (no detections), 8.1ms\n",
            "video 1/1 (frame 266/444) /content/fire extinguish.mp4: 224x128 (no detections), 8.4ms\n",
            "video 1/1 (frame 267/444) /content/fire extinguish.mp4: 224x128 (no detections), 9.5ms\n",
            "video 1/1 (frame 268/444) /content/fire extinguish.mp4: 224x128 (no detections), 10.7ms\n",
            "video 1/1 (frame 269/444) /content/fire extinguish.mp4: 224x128 (no detections), 9.5ms\n",
            "video 1/1 (frame 270/444) /content/fire extinguish.mp4: 224x128 (no detections), 9.0ms\n",
            "video 1/1 (frame 271/444) /content/fire extinguish.mp4: 224x128 (no detections), 9.3ms\n",
            "video 1/1 (frame 272/444) /content/fire extinguish.mp4: 224x128 1 extinguisher, 8.5ms\n",
            "video 1/1 (frame 273/444) /content/fire extinguish.mp4: 224x128 1 extinguisher, 8.7ms\n",
            "video 1/1 (frame 274/444) /content/fire extinguish.mp4: 224x128 (no detections), 9.2ms\n",
            "video 1/1 (frame 275/444) /content/fire extinguish.mp4: 224x128 (no detections), 8.4ms\n",
            "video 1/1 (frame 276/444) /content/fire extinguish.mp4: 224x128 1 extinguisher, 8.9ms\n",
            "video 1/1 (frame 277/444) /content/fire extinguish.mp4: 224x128 (no detections), 11.4ms\n",
            "video 1/1 (frame 278/444) /content/fire extinguish.mp4: 224x128 (no detections), 13.4ms\n",
            "video 1/1 (frame 279/444) /content/fire extinguish.mp4: 224x128 (no detections), 8.5ms\n",
            "video 1/1 (frame 280/444) /content/fire extinguish.mp4: 224x128 (no detections), 8.2ms\n",
            "video 1/1 (frame 281/444) /content/fire extinguish.mp4: 224x128 (no detections), 8.1ms\n",
            "video 1/1 (frame 282/444) /content/fire extinguish.mp4: 224x128 (no detections), 10.7ms\n",
            "video 1/1 (frame 283/444) /content/fire extinguish.mp4: 224x128 (no detections), 13.4ms\n",
            "video 1/1 (frame 284/444) /content/fire extinguish.mp4: 224x128 (no detections), 13.3ms\n",
            "video 1/1 (frame 285/444) /content/fire extinguish.mp4: 224x128 (no detections), 12.0ms\n",
            "video 1/1 (frame 286/444) /content/fire extinguish.mp4: 224x128 (no detections), 13.1ms\n",
            "video 1/1 (frame 287/444) /content/fire extinguish.mp4: 224x128 (no detections), 11.9ms\n",
            "video 1/1 (frame 288/444) /content/fire extinguish.mp4: 224x128 (no detections), 12.7ms\n",
            "video 1/1 (frame 289/444) /content/fire extinguish.mp4: 224x128 (no detections), 12.8ms\n",
            "video 1/1 (frame 290/444) /content/fire extinguish.mp4: 224x128 (no detections), 13.1ms\n",
            "video 1/1 (frame 291/444) /content/fire extinguish.mp4: 224x128 (no detections), 11.0ms\n",
            "video 1/1 (frame 292/444) /content/fire extinguish.mp4: 224x128 (no detections), 9.3ms\n",
            "video 1/1 (frame 293/444) /content/fire extinguish.mp4: 224x128 (no detections), 8.4ms\n",
            "video 1/1 (frame 294/444) /content/fire extinguish.mp4: 224x128 (no detections), 9.8ms\n",
            "video 1/1 (frame 295/444) /content/fire extinguish.mp4: 224x128 (no detections), 12.5ms\n",
            "video 1/1 (frame 296/444) /content/fire extinguish.mp4: 224x128 (no detections), 12.3ms\n",
            "video 1/1 (frame 297/444) /content/fire extinguish.mp4: 224x128 (no detections), 8.7ms\n",
            "video 1/1 (frame 298/444) /content/fire extinguish.mp4: 224x128 (no detections), 9.6ms\n",
            "video 1/1 (frame 299/444) /content/fire extinguish.mp4: 224x128 (no detections), 9.7ms\n",
            "video 1/1 (frame 300/444) /content/fire extinguish.mp4: 224x128 (no detections), 7.9ms\n",
            "video 1/1 (frame 301/444) /content/fire extinguish.mp4: 224x128 (no detections), 8.9ms\n",
            "video 1/1 (frame 302/444) /content/fire extinguish.mp4: 224x128 (no detections), 8.5ms\n",
            "video 1/1 (frame 303/444) /content/fire extinguish.mp4: 224x128 (no detections), 8.9ms\n",
            "video 1/1 (frame 304/444) /content/fire extinguish.mp4: 224x128 (no detections), 10.1ms\n",
            "video 1/1 (frame 305/444) /content/fire extinguish.mp4: 224x128 (no detections), 11.4ms\n",
            "video 1/1 (frame 306/444) /content/fire extinguish.mp4: 224x128 (no detections), 9.3ms\n",
            "video 1/1 (frame 307/444) /content/fire extinguish.mp4: 224x128 (no detections), 9.3ms\n",
            "video 1/1 (frame 308/444) /content/fire extinguish.mp4: 224x128 (no detections), 8.2ms\n",
            "video 1/1 (frame 309/444) /content/fire extinguish.mp4: 224x128 (no detections), 8.1ms\n",
            "video 1/1 (frame 310/444) /content/fire extinguish.mp4: 224x128 (no detections), 9.1ms\n",
            "video 1/1 (frame 311/444) /content/fire extinguish.mp4: 224x128 (no detections), 7.9ms\n",
            "video 1/1 (frame 312/444) /content/fire extinguish.mp4: 224x128 (no detections), 8.1ms\n",
            "video 1/1 (frame 313/444) /content/fire extinguish.mp4: 224x128 (no detections), 7.8ms\n",
            "video 1/1 (frame 314/444) /content/fire extinguish.mp4: 224x128 (no detections), 9.3ms\n",
            "video 1/1 (frame 315/444) /content/fire extinguish.mp4: 224x128 (no detections), 8.0ms\n",
            "video 1/1 (frame 316/444) /content/fire extinguish.mp4: 224x128 (no detections), 7.9ms\n",
            "video 1/1 (frame 317/444) /content/fire extinguish.mp4: 224x128 (no detections), 8.1ms\n",
            "video 1/1 (frame 318/444) /content/fire extinguish.mp4: 224x128 (no detections), 9.3ms\n",
            "video 1/1 (frame 319/444) /content/fire extinguish.mp4: 224x128 (no detections), 8.4ms\n",
            "video 1/1 (frame 320/444) /content/fire extinguish.mp4: 224x128 (no detections), 8.0ms\n",
            "video 1/1 (frame 321/444) /content/fire extinguish.mp4: 224x128 (no detections), 9.4ms\n",
            "video 1/1 (frame 322/444) /content/fire extinguish.mp4: 224x128 (no detections), 9.4ms\n",
            "video 1/1 (frame 323/444) /content/fire extinguish.mp4: 224x128 (no detections), 7.9ms\n",
            "video 1/1 (frame 324/444) /content/fire extinguish.mp4: 224x128 (no detections), 9.5ms\n",
            "video 1/1 (frame 325/444) /content/fire extinguish.mp4: 224x128 (no detections), 8.0ms\n",
            "video 1/1 (frame 326/444) /content/fire extinguish.mp4: 224x128 (no detections), 9.7ms\n",
            "video 1/1 (frame 327/444) /content/fire extinguish.mp4: 224x128 (no detections), 8.2ms\n",
            "video 1/1 (frame 328/444) /content/fire extinguish.mp4: 224x128 (no detections), 8.2ms\n",
            "video 1/1 (frame 329/444) /content/fire extinguish.mp4: 224x128 (no detections), 8.1ms\n",
            "video 1/1 (frame 330/444) /content/fire extinguish.mp4: 224x128 (no detections), 9.6ms\n",
            "video 1/1 (frame 331/444) /content/fire extinguish.mp4: 224x128 (no detections), 8.0ms\n",
            "video 1/1 (frame 332/444) /content/fire extinguish.mp4: 224x128 (no detections), 8.8ms\n",
            "video 1/1 (frame 333/444) /content/fire extinguish.mp4: 224x128 (no detections), 8.2ms\n",
            "video 1/1 (frame 334/444) /content/fire extinguish.mp4: 224x128 1 extinguisher, 10.5ms\n",
            "video 1/1 (frame 335/444) /content/fire extinguish.mp4: 224x128 1 extinguisher, 8.0ms\n",
            "video 1/1 (frame 336/444) /content/fire extinguish.mp4: 224x128 1 extinguisher, 14.4ms\n",
            "video 1/1 (frame 337/444) /content/fire extinguish.mp4: 224x128 1 extinguisher, 12.5ms\n",
            "video 1/1 (frame 338/444) /content/fire extinguish.mp4: 224x128 (no detections), 14.5ms\n",
            "video 1/1 (frame 339/444) /content/fire extinguish.mp4: 224x128 (no detections), 13.3ms\n",
            "video 1/1 (frame 340/444) /content/fire extinguish.mp4: 224x128 1 extinguisher, 12.3ms\n",
            "video 1/1 (frame 341/444) /content/fire extinguish.mp4: 224x128 (no detections), 13.7ms\n",
            "video 1/1 (frame 342/444) /content/fire extinguish.mp4: 224x128 1 extinguisher, 12.0ms\n",
            "video 1/1 (frame 343/444) /content/fire extinguish.mp4: 224x128 1 extinguisher, 13.6ms\n",
            "video 1/1 (frame 344/444) /content/fire extinguish.mp4: 224x128 1 extinguisher, 12.1ms\n",
            "video 1/1 (frame 345/444) /content/fire extinguish.mp4: 224x128 1 extinguisher, 14.3ms\n",
            "video 1/1 (frame 346/444) /content/fire extinguish.mp4: 224x128 1 extinguisher, 8.6ms\n",
            "video 1/1 (frame 347/444) /content/fire extinguish.mp4: 224x128 1 extinguisher, 9.0ms\n",
            "video 1/1 (frame 348/444) /content/fire extinguish.mp4: 224x128 1 extinguisher, 8.8ms\n",
            "video 1/1 (frame 349/444) /content/fire extinguish.mp4: 224x128 (no detections), 9.2ms\n",
            "video 1/1 (frame 350/444) /content/fire extinguish.mp4: 224x128 (no detections), 20.3ms\n",
            "video 1/1 (frame 351/444) /content/fire extinguish.mp4: 224x128 1 extinguisher, 16.5ms\n",
            "video 1/1 (frame 352/444) /content/fire extinguish.mp4: 224x128 1 extinguisher, 14.2ms\n",
            "video 1/1 (frame 353/444) /content/fire extinguish.mp4: 224x128 1 extinguisher, 14.0ms\n",
            "video 1/1 (frame 354/444) /content/fire extinguish.mp4: 224x128 1 extinguisher, 15.3ms\n",
            "video 1/1 (frame 355/444) /content/fire extinguish.mp4: 224x128 1 extinguisher, 12.5ms\n",
            "video 1/1 (frame 356/444) /content/fire extinguish.mp4: 224x128 1 extinguisher, 11.7ms\n",
            "video 1/1 (frame 357/444) /content/fire extinguish.mp4: 224x128 1 extinguisher, 12.9ms\n",
            "video 1/1 (frame 358/444) /content/fire extinguish.mp4: 224x128 1 extinguisher, 12.9ms\n",
            "video 1/1 (frame 359/444) /content/fire extinguish.mp4: 224x128 (no detections), 10.3ms\n",
            "video 1/1 (frame 360/444) /content/fire extinguish.mp4: 224x128 1 extinguisher, 14.2ms\n",
            "video 1/1 (frame 361/444) /content/fire extinguish.mp4: 224x128 1 extinguisher, 13.2ms\n",
            "video 1/1 (frame 362/444) /content/fire extinguish.mp4: 224x128 1 extinguisher, 11.0ms\n",
            "video 1/1 (frame 363/444) /content/fire extinguish.mp4: 224x128 1 extinguisher, 11.0ms\n",
            "video 1/1 (frame 364/444) /content/fire extinguish.mp4: 224x128 1 extinguisher, 11.9ms\n",
            "video 1/1 (frame 365/444) /content/fire extinguish.mp4: 224x128 1 extinguisher, 10.7ms\n",
            "video 1/1 (frame 366/444) /content/fire extinguish.mp4: 224x128 1 extinguisher, 10.0ms\n",
            "video 1/1 (frame 367/444) /content/fire extinguish.mp4: 224x128 1 extinguisher, 10.1ms\n",
            "video 1/1 (frame 368/444) /content/fire extinguish.mp4: 224x128 1 extinguisher, 13.0ms\n",
            "video 1/1 (frame 369/444) /content/fire extinguish.mp4: 224x128 1 extinguisher, 10.3ms\n",
            "video 1/1 (frame 370/444) /content/fire extinguish.mp4: 224x128 1 extinguisher, 10.8ms\n",
            "video 1/1 (frame 371/444) /content/fire extinguish.mp4: 224x128 1 extinguisher, 10.5ms\n",
            "video 1/1 (frame 372/444) /content/fire extinguish.mp4: 224x128 1 extinguisher, 11.2ms\n",
            "video 1/1 (frame 373/444) /content/fire extinguish.mp4: 224x128 2 extinguishers, 10.7ms\n",
            "video 1/1 (frame 374/444) /content/fire extinguish.mp4: 224x128 2 extinguishers, 10.8ms\n",
            "video 1/1 (frame 375/444) /content/fire extinguish.mp4: 224x128 1 extinguisher, 11.2ms\n",
            "video 1/1 (frame 376/444) /content/fire extinguish.mp4: 224x128 2 extinguishers, 10.9ms\n",
            "video 1/1 (frame 377/444) /content/fire extinguish.mp4: 224x128 2 extinguishers, 13.8ms\n",
            "video 1/1 (frame 378/444) /content/fire extinguish.mp4: 224x128 2 extinguishers, 14.4ms\n",
            "video 1/1 (frame 379/444) /content/fire extinguish.mp4: 224x128 1 extinguisher, 13.9ms\n",
            "video 1/1 (frame 380/444) /content/fire extinguish.mp4: 224x128 1 extinguisher, 13.6ms\n",
            "video 1/1 (frame 381/444) /content/fire extinguish.mp4: 224x128 2 extinguishers, 12.0ms\n",
            "video 1/1 (frame 382/444) /content/fire extinguish.mp4: 224x128 2 extinguishers, 15.1ms\n",
            "video 1/1 (frame 383/444) /content/fire extinguish.mp4: 224x128 2 extinguishers, 10.5ms\n",
            "video 1/1 (frame 384/444) /content/fire extinguish.mp4: 224x128 2 extinguishers, 10.9ms\n",
            "video 1/1 (frame 385/444) /content/fire extinguish.mp4: 224x128 6 extinguishers, 11.0ms\n",
            "video 1/1 (frame 386/444) /content/fire extinguish.mp4: 224x128 3 extinguishers, 10.6ms\n",
            "video 1/1 (frame 387/444) /content/fire extinguish.mp4: 224x128 3 extinguishers, 12.3ms\n",
            "video 1/1 (frame 388/444) /content/fire extinguish.mp4: 224x128 2 extinguishers, 14.3ms\n",
            "video 1/1 (frame 389/444) /content/fire extinguish.mp4: 224x128 1 extinguisher, 11.4ms\n",
            "video 1/1 (frame 390/444) /content/fire extinguish.mp4: 224x128 1 extinguisher, 9.8ms\n",
            "video 1/1 (frame 391/444) /content/fire extinguish.mp4: 224x128 2 extinguishers, 10.0ms\n",
            "video 1/1 (frame 392/444) /content/fire extinguish.mp4: 224x128 2 extinguishers, 9.7ms\n",
            "video 1/1 (frame 393/444) /content/fire extinguish.mp4: 224x128 1 extinguisher, 10.1ms\n",
            "video 1/1 (frame 394/444) /content/fire extinguish.mp4: 224x128 2 extinguishers, 16.1ms\n",
            "video 1/1 (frame 395/444) /content/fire extinguish.mp4: 224x128 2 extinguishers, 11.3ms\n",
            "video 1/1 (frame 396/444) /content/fire extinguish.mp4: 224x128 2 extinguishers, 12.3ms\n",
            "video 1/1 (frame 397/444) /content/fire extinguish.mp4: 224x128 2 extinguishers, 10.1ms\n",
            "video 1/1 (frame 398/444) /content/fire extinguish.mp4: 224x128 2 extinguishers, 13.8ms\n",
            "video 1/1 (frame 399/444) /content/fire extinguish.mp4: 224x128 2 extinguishers, 11.8ms\n",
            "video 1/1 (frame 400/444) /content/fire extinguish.mp4: 224x128 4 extinguishers, 10.9ms\n",
            "video 1/1 (frame 401/444) /content/fire extinguish.mp4: 224x128 2 extinguishers, 10.0ms\n",
            "video 1/1 (frame 402/444) /content/fire extinguish.mp4: 224x128 2 extinguishers, 10.1ms\n",
            "video 1/1 (frame 403/444) /content/fire extinguish.mp4: 224x128 3 extinguishers, 10.0ms\n",
            "video 1/1 (frame 404/444) /content/fire extinguish.mp4: 224x128 2 extinguishers, 10.3ms\n",
            "video 1/1 (frame 405/444) /content/fire extinguish.mp4: 224x128 1 extinguisher, 12.6ms\n",
            "video 1/1 (frame 406/444) /content/fire extinguish.mp4: 224x128 1 extinguisher, 10.1ms\n",
            "video 1/1 (frame 407/444) /content/fire extinguish.mp4: 224x128 1 extinguisher, 10.0ms\n",
            "video 1/1 (frame 408/444) /content/fire extinguish.mp4: 224x128 1 extinguisher, 12.4ms\n",
            "video 1/1 (frame 409/444) /content/fire extinguish.mp4: 224x128 1 extinguisher, 18.5ms\n",
            "video 1/1 (frame 410/444) /content/fire extinguish.mp4: 224x128 1 extinguisher, 16.2ms\n",
            "video 1/1 (frame 411/444) /content/fire extinguish.mp4: 224x128 2 extinguishers, 19.8ms\n",
            "video 1/1 (frame 412/444) /content/fire extinguish.mp4: 224x128 2 extinguishers, 15.0ms\n",
            "video 1/1 (frame 413/444) /content/fire extinguish.mp4: 224x128 1 extinguisher, 14.1ms\n",
            "video 1/1 (frame 414/444) /content/fire extinguish.mp4: 224x128 1 extinguisher, 17.7ms\n",
            "video 1/1 (frame 415/444) /content/fire extinguish.mp4: 224x128 2 extinguishers, 15.9ms\n",
            "video 1/1 (frame 416/444) /content/fire extinguish.mp4: 224x128 (no detections), 15.2ms\n",
            "video 1/1 (frame 417/444) /content/fire extinguish.mp4: 224x128 (no detections), 14.6ms\n",
            "video 1/1 (frame 418/444) /content/fire extinguish.mp4: 224x128 1 extinguisher, 15.9ms\n",
            "video 1/1 (frame 419/444) /content/fire extinguish.mp4: 224x128 (no detections), 17.5ms\n",
            "video 1/1 (frame 420/444) /content/fire extinguish.mp4: 224x128 (no detections), 14.0ms\n",
            "video 1/1 (frame 421/444) /content/fire extinguish.mp4: 224x128 (no detections), 13.3ms\n",
            "video 1/1 (frame 422/444) /content/fire extinguish.mp4: 224x128 (no detections), 12.2ms\n",
            "video 1/1 (frame 423/444) /content/fire extinguish.mp4: 224x128 1 extinguisher, 13.8ms\n",
            "video 1/1 (frame 424/444) /content/fire extinguish.mp4: 224x128 (no detections), 13.0ms\n",
            "video 1/1 (frame 425/444) /content/fire extinguish.mp4: 224x128 1 extinguisher, 11.2ms\n",
            "video 1/1 (frame 426/444) /content/fire extinguish.mp4: 224x128 2 extinguishers, 15.1ms\n",
            "video 1/1 (frame 427/444) /content/fire extinguish.mp4: 224x128 (no detections), 12.7ms\n",
            "video 1/1 (frame 428/444) /content/fire extinguish.mp4: 224x128 (no detections), 16.8ms\n",
            "video 1/1 (frame 429/444) /content/fire extinguish.mp4: 224x128 (no detections), 16.0ms\n",
            "video 1/1 (frame 430/444) /content/fire extinguish.mp4: 224x128 (no detections), 17.5ms\n",
            "video 1/1 (frame 431/444) /content/fire extinguish.mp4: 224x128 (no detections), 11.9ms\n",
            "video 1/1 (frame 432/444) /content/fire extinguish.mp4: 224x128 (no detections), 11.9ms\n",
            "video 1/1 (frame 433/444) /content/fire extinguish.mp4: 224x128 (no detections), 10.9ms\n",
            "video 1/1 (frame 434/444) /content/fire extinguish.mp4: 224x128 (no detections), 15.9ms\n",
            "video 1/1 (frame 435/444) /content/fire extinguish.mp4: 224x128 (no detections), 11.4ms\n",
            "video 1/1 (frame 436/444) /content/fire extinguish.mp4: 224x128 (no detections), 20.5ms\n",
            "video 1/1 (frame 437/444) /content/fire extinguish.mp4: 224x128 (no detections), 14.8ms\n",
            "video 1/1 (frame 438/444) /content/fire extinguish.mp4: 224x128 (no detections), 13.3ms\n",
            "video 1/1 (frame 439/444) /content/fire extinguish.mp4: 224x128 (no detections), 13.4ms\n",
            "video 1/1 (frame 440/444) /content/fire extinguish.mp4: 224x128 1 extinguisher, 13.0ms\n",
            "video 1/1 (frame 441/444) /content/fire extinguish.mp4: 224x128 1 extinguisher, 15.6ms\n",
            "video 1/1 (frame 442/444) /content/fire extinguish.mp4: 224x128 1 extinguisher, 13.7ms\n",
            "video 1/1 (frame 443/444) /content/fire extinguish.mp4: 224x128 1 extinguisher, 13.0ms\n",
            "video 1/1 (frame 444/444) /content/fire extinguish.mp4: 224x128 1 extinguisher, 12.0ms\n",
            "Speed: 0.7ms preprocess, 10.5ms inference, 1.1ms postprocess per image at shape (1, 3, 224, 128)\n",
            "Results saved to \u001b[1mruns/detect/predict\u001b[0m\n"
          ]
        }
      ],
      "source": [
        "results = bt.predict(source='/content/fire extinguish.mp4', imgsz=224, device=0, save=True)"
      ]
    },
    {
      "cell_type": "code",
      "execution_count": null,
      "metadata": {
        "colab": {
          "base_uri": "https://localhost:8080/"
        },
        "id": "x-ahQbzYPHBB",
        "outputId": "41dc3a0d-ef66-4d4f-f59b-011eeb0647cf"
      },
      "outputs": [
        {
          "name": "stdout",
          "output_type": "stream",
          "text": [
            "\n",
            "image 1/1 /content/p1.jpg: 224x224 1 extinguisher, 15.8ms\n",
            "Speed: 1.8ms preprocess, 15.8ms inference, 2.8ms postprocess per image at shape (1, 3, 224, 224)\n",
            "Results saved to \u001b[1mruns/detect/predict\u001b[0m\n"
          ]
        }
      ],
      "source": [
        "results = bt.predict(source='/content/p1.jpg', imgsz=224, device=0, save=True)"
      ]
    }
  ],
  "metadata": {
    "accelerator": "GPU",
    "colab": {
      "gpuType": "T4",
      "provenance": []
    },
    "kernelspec": {
      "display_name": "Python 3",
      "name": "python3"
    },
    "language_info": {
      "name": "python"
    }
  },
  "nbformat": 4,
  "nbformat_minor": 0
}